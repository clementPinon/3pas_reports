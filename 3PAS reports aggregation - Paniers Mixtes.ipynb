{
 "cells": [
  {
   "cell_type": "markdown",
   "metadata": {},
   "source": [
    "#Prepare environment"
   ]
  },
  {
   "cell_type": "code",
   "execution_count": 29,
   "metadata": {
    "collapsed": true
   },
   "outputs": [],
   "source": [
    "%matplotlib inline"
   ]
  },
  {
   "cell_type": "code",
   "execution_count": 30,
   "metadata": {
    "collapsed": true
   },
   "outputs": [],
   "source": [
    "import numpy as np\n",
    "import pandas as pd\n",
    "import matplotlib.pyplot as plt\n",
    "import seaborn as sns #pour faire des graph dans la bonne couleur etc.. par default\n",
    "import glob\n",
    "import re"
   ]
  },
  {
   "cell_type": "markdown",
   "metadata": {},
   "source": [
    "#Upload datasets"
   ]
  },
  {
   "cell_type": "markdown",
   "metadata": {},
   "source": [
    "> Define products to be taken into account for credited conversions"
   ]
  },
  {
   "cell_type": "markdown",
   "metadata": {},
   "source": [
    ">/!\\ Which products do you want to take into account????"
   ]
  },
  {
   "cell_type": "code",
   "execution_count": 31,
   "metadata": {
    "collapsed": true
   },
   "outputs": [],
   "source": [
    "#http://stackoverflow.com/questions/12096252/use-a-list-of-values-to-select-rows-from-a-pandas-dataframe\n",
    "#gamme_prod = ['DN', 'DI', 'PD', 'TI', 'TN']\n",
    "gamme_prod = ['DN', 'DI', 'PD', 'TI', 'TN','Mixte']"
   ]
  },
  {
   "cell_type": "markdown",
   "metadata": {},
   "source": [
    "> Name of the files to be uploaded\n",
    "\n",
    "> These should be hosted in the root folder"
   ]
  },
  {
   "cell_type": "code",
   "execution_count": 32,
   "metadata": {
    "collapsed": false
   },
   "outputs": [],
   "source": [
    "#file_quanti \n",
    "adServerFile = 'Report_Quantcast_mobilite_Standard_v1_M88Z5cUHryFJpRP_AA1S.xlsx'\n",
    "#file_quali \n",
    "detailedFile = 'Report_Quantcast_mobilite_conversion_view_PNJjl0461vpIzpMgHrA7.csv'"
   ]
  },
  {
   "cell_type": "code",
   "execution_count": 33,
   "metadata": {
    "collapsed": true
   },
   "outputs": [],
   "source": [
    "#first file to be uploaded details of products part of each conversion\n",
    "detailedConversions = pd.read_csv(detailedFile, dtype=object)\n",
    "\n",
    "#We need to update the date format and strip hours\n",
    "#http://stackoverflow.com/questions/26387986/strip-time-from-an-object-date-in-pandas\n",
    "detailedConversions['conversion_date'] = pd.to_datetime(detailedConversions['Conversion date-hour'])\n",
    "detailedConversions['conversion_date'] = detailedConversions['conversion_date'].apply(lambda x:x.date().strftime('%Y-%m-%d'))"
   ]
  },
  {
   "cell_type": "code",
   "execution_count": 34,
   "metadata": {
    "collapsed": false
   },
   "outputs": [
    {
     "data": {
      "text/plain": [
       "Conversion date-hour      3724\n",
       "Conversion ID             3724\n",
       "Conversion label          3724\n",
       "Project ID                3724\n",
       "Project                   3724\n",
       "Channel ID                3724\n",
       "Channel                   3724\n",
       "Campaign ID               3724\n",
       "Campaign                  3724\n",
       "Campaign labels           3724\n",
       "Ad network ID             3724\n",
       "Ad network                3724\n",
       "Site-Offer ID             3724\n",
       "Site-Offer                3724\n",
       "Insertion ID              3724\n",
       "Insertion                 3724\n",
       "Creative ID               3724\n",
       "Creative                  3724\n",
       "Creative Sizes            3724\n",
       "Creative Dimension        3724\n",
       "Keyword                   3724\n",
       "Text ad                   3724\n",
       "Network                   3724\n",
       "Website                   3724\n",
       "Last action name          3724\n",
       "Last action date-hour     3724\n",
       "Match Type                3724\n",
       "Device                    3724\n",
       "Order number              3724\n",
       "Client ID                 3724\n",
       "New Client                3724\n",
       "Revenues                  3724\n",
       "Items number              3724\n",
       "Confirmed Order Status    3724\n",
       "Validation date           3724\n",
       "Custom parameter          3724\n",
       "N1                        3724\n",
       "N2                        3724\n",
       "N3                        3724\n",
       "T1                        3724\n",
       "T2                        3724\n",
       "Insertion labels          3724\n",
       "Brand and Product ID      3724\n",
       "Brand and Product         3724\n",
       "nom_produit               3037\n",
       "prix_ht_zanox             3647\n",
       "nouveau_client            3647\n",
       "gamme_produit             3647\n",
       "mode_paiement             3647\n",
       "nombre_produit            3647\n",
       "nom_site                  3724\n",
       "prix_produit              3647\n",
       "code_promo                  38\n",
       "conversion_date           3724\n",
       "dtype: int64"
      ]
     },
     "execution_count": 34,
     "metadata": {},
     "output_type": "execute_result"
    }
   ],
   "source": [
    "#detailedConversions details products within each orders\n",
    "#check what's in detailedConversions\n",
    "detailedConversions.count()"
   ]
  },
  {
   "cell_type": "code",
   "execution_count": 35,
   "metadata": {
    "collapsed": false
   },
   "outputs": [],
   "source": [
    "#then upload the second file. this is the regular 3PAS files with every conversions to which we contributed. \n",
    "xls_file = pd.ExcelFile(adServerFile)\n",
    "adServerTable = xls_file.parse('DataView')"
   ]
  },
  {
   "cell_type": "code",
   "execution_count": 36,
   "metadata": {
    "collapsed": false
   },
   "outputs": [
    {
     "data": {
      "text/plain": [
       "Date                                          332\n",
       "Site/Offer ID                                 332\n",
       "Site/Offer                                    332\n",
       "Insertion ID                                  332\n",
       "Insertion                                     332\n",
       "Creative ID                                   332\n",
       "Creative                                      332\n",
       "Creative Sizes                                332\n",
       "Imp.                                          332\n",
       "Clicks                                        332\n",
       "PC conv. BNUM_Confirmation achat_Pro          332\n",
       "PC conv. BNUM_Confirmation achat_Part         332\n",
       "PI conv. BNUM_Confirmation achat_Pro          332\n",
       "PI conv. BNUM_Confirmation achat_Part         332\n",
       "Revenues (PC) BNUM_Confirmation achat_Pro     332\n",
       "Revenues (PC) BNUM_Confirmation achat_Part    332\n",
       "Revenues (PI) BNUM_Confirmation achat_Pro     332\n",
       "Revenues (PI) BNUM_Confirmation achat_Part    332\n",
       "dtype: int64"
      ]
     },
     "execution_count": 36,
     "metadata": {},
     "output_type": "execute_result"
    }
   ],
   "source": [
    "#adServerTable credits each order to a vendor\n",
    "# /!\\ We want to had details of orders containing products for which we are credited /!\\\n",
    "#check what's in adServerTable\n",
    "adServerTable.count()"
   ]
  },
  {
   "cell_type": "code",
   "execution_count": 37,
   "metadata": {
    "collapsed": true
   },
   "outputs": [],
   "source": [
    "#create functio that will be used to create matching key by concatenating several columns\n",
    "#http://stackoverflow.com/questions/23444858/concatenate-column-values-in-pandas-dataframe-with-nan-values\n",
    "def concat(*args):\n",
    "    strs = [str(arg) for arg in args if not pd.isnull(arg)]\n",
    "    return '_'.join(strs) if strs else np.nan\n",
    "\n",
    "np_concat = np.vectorize(concat)"
   ]
  },
  {
   "cell_type": "code",
   "execution_count": 38,
   "metadata": {
    "collapsed": false
   },
   "outputs": [
    {
     "data": {
      "text/html": [
       "<div style=\"max-height:1000px;max-width:1500px;overflow:auto;\">\n",
       "<table border=\"1\" class=\"dataframe\">\n",
       "  <thead>\n",
       "    <tr style=\"text-align: right;\">\n",
       "      <th></th>\n",
       "      <th>Date</th>\n",
       "      <th>Site/Offer ID</th>\n",
       "      <th>Insertion ID</th>\n",
       "      <th>Creative ID</th>\n",
       "      <th>key</th>\n",
       "    </tr>\n",
       "  </thead>\n",
       "  <tbody>\n",
       "    <tr>\n",
       "      <th>0</th>\n",
       "      <td>2016-03-08</td>\n",
       "      <td>1123</td>\n",
       "      <td>7490</td>\n",
       "      <td>1731</td>\n",
       "      <td>2016-03-08_1123_7490_1731</td>\n",
       "    </tr>\n",
       "    <tr>\n",
       "      <th>1</th>\n",
       "      <td>2016-03-08</td>\n",
       "      <td>1123</td>\n",
       "      <td>7483</td>\n",
       "      <td>1733</td>\n",
       "      <td>2016-03-08_1123_7483_1733</td>\n",
       "    </tr>\n",
       "    <tr>\n",
       "      <th>2</th>\n",
       "      <td>2016-03-09</td>\n",
       "      <td>1123</td>\n",
       "      <td>7492</td>\n",
       "      <td>1735</td>\n",
       "      <td>2016-03-09_1123_7492_1735</td>\n",
       "    </tr>\n",
       "  </tbody>\n",
       "</table>\n",
       "</div>"
      ],
      "text/plain": [
       "         Date  Site/Offer ID  Insertion ID  Creative ID  \\\n",
       "0  2016-03-08           1123          7490         1731   \n",
       "1  2016-03-08           1123          7483         1733   \n",
       "2  2016-03-09           1123          7492         1735   \n",
       "\n",
       "                         key  \n",
       "0  2016-03-08_1123_7490_1731  \n",
       "1  2016-03-08_1123_7483_1733  \n",
       "2  2016-03-09_1123_7492_1735  "
      ]
     },
     "execution_count": 38,
     "metadata": {},
     "output_type": "execute_result"
    }
   ],
   "source": [
    "#We need to define the key to join both file. \n",
    "#first 3PAS report Key\n",
    "adServerTable['key'] = np_concat(adServerTable['Date'], adServerTable['Site/Offer ID'], adServerTable['Insertion ID'], adServerTable['Creative ID'])\n",
    "#QA the created key\n",
    "adServerTable[['Date','Site/Offer ID','Insertion ID','Creative ID', 'key']].head(3)"
   ]
  },
  {
   "cell_type": "code",
   "execution_count": 39,
   "metadata": {
    "collapsed": false
   },
   "outputs": [
    {
     "data": {
      "text/html": [
       "<div style=\"max-height:1000px;max-width:1500px;overflow:auto;\">\n",
       "<table border=\"1\" class=\"dataframe\">\n",
       "  <thead>\n",
       "    <tr style=\"text-align: right;\">\n",
       "      <th></th>\n",
       "      <th>conversion_date</th>\n",
       "      <th>Site-Offer ID</th>\n",
       "      <th>Insertion ID</th>\n",
       "      <th>Creative ID</th>\n",
       "      <th>key</th>\n",
       "    </tr>\n",
       "  </thead>\n",
       "  <tbody>\n",
       "    <tr>\n",
       "      <th>0</th>\n",
       "      <td>2016-03-10</td>\n",
       "      <td>1123</td>\n",
       "      <td>7485</td>\n",
       "      <td>1731</td>\n",
       "      <td>2016-03-10_1123_7485_1731</td>\n",
       "    </tr>\n",
       "    <tr>\n",
       "      <th>1</th>\n",
       "      <td>2016-03-10</td>\n",
       "      <td>1123</td>\n",
       "      <td>7485</td>\n",
       "      <td>1731</td>\n",
       "      <td>2016-03-10_1123_7485_1731</td>\n",
       "    </tr>\n",
       "    <tr>\n",
       "      <th>2</th>\n",
       "      <td>2016-03-10</td>\n",
       "      <td>1123</td>\n",
       "      <td>7485</td>\n",
       "      <td>1731</td>\n",
       "      <td>2016-03-10_1123_7485_1731</td>\n",
       "    </tr>\n",
       "  </tbody>\n",
       "</table>\n",
       "</div>"
      ],
      "text/plain": [
       "  conversion_date Site-Offer ID Insertion ID Creative ID  \\\n",
       "0      2016-03-10          1123         7485        1731   \n",
       "1      2016-03-10          1123         7485        1731   \n",
       "2      2016-03-10          1123         7485        1731   \n",
       "\n",
       "                         key  \n",
       "0  2016-03-10_1123_7485_1731  \n",
       "1  2016-03-10_1123_7485_1731  \n",
       "2  2016-03-10_1123_7485_1731  "
      ]
     },
     "execution_count": 39,
     "metadata": {},
     "output_type": "execute_result"
    }
   ],
   "source": [
    "detailedConversions['key'] = np_concat(detailedConversions['conversion_date'], detailedConversions['Site-Offer ID'], detailedConversions['Insertion ID'], detailedConversions['Creative ID'])\n",
    "#QA the created key\n",
    "detailedConversions[['conversion_date','Site-Offer ID','Insertion ID','Creative ID', 'key']].head(3)"
   ]
  },
  {
   "cell_type": "markdown",
   "metadata": {},
   "source": [
    "> Let's define several functions that'll be used for cleaning datasets"
   ]
  },
  {
   "cell_type": "code",
   "execution_count": 40,
   "metadata": {
    "collapsed": true
   },
   "outputs": [],
   "source": [
    "# function aimed at cleaning revenue figures\n",
    "\n",
    "def cleanrev(col):\n",
    "    if col == '-':\n",
    "        return 0.0\n",
    "    else:\n",
    "        return float(col)"
   ]
  },
  {
   "cell_type": "code",
   "execution_count": 41,
   "metadata": {
    "collapsed": false
   },
   "outputs": [],
   "source": [
    "# function aimed at cleaning products part of the orders\n",
    "\n",
    "def cleanGamme(col,gamme_prod):\n",
    "    items = list(set(col.split(\"|\")) )\n",
    "    if len(items) == 1:\n",
    "        return items[0]\n",
    "    elif re.search('|'.join(gamme_prod),col):\n",
    "        return \"Mixte\"\n",
    "    else:\n",
    "        return \"Mixte_non_comptabilise\"\n",
    "        "
   ]
  },
  {
   "cell_type": "code",
   "execution_count": 42,
   "metadata": {
    "collapsed": false
   },
   "outputs": [],
   "source": [
    "# function aimed at associating products and unit price\n",
    "# /!\\ We need to verify every product are added and quantity matches\n",
    "\n",
    "def cleanProduitMix(df):\n",
    "    items = df[0].split(\"|\")\n",
    "    prices = df[1].split(\"|\")\n",
    "    quantity = df[2].split(\"|\")\n",
    "    if len(items) == 1:\n",
    "        return items[0] + '-%s' %float(prices[0]) #*float(quantity[0]))\n",
    "    else:\n",
    "#        mix = '%s-' %len(items)\n",
    "        l = len(items)\n",
    "        mix = ''\n",
    "        for i in range(0,len(items)-2):\n",
    "            mix = mix + items[i] + '-%s|' %float(prices[i]) #*float(quantity[i]))\n",
    "        return mix + items[l-1] + '-%s' %float(prices[l-1]) #*float(quantity[l-1]))"
   ]
  },
  {
   "cell_type": "code",
   "execution_count": 43,
   "metadata": {
    "collapsed": false
   },
   "outputs": [],
   "source": [
    "#function aimed at concatenating several columns separated by '-'\n",
    "def concatenate(df):\n",
    "    if len(df)>0:\n",
    "        c = ''\n",
    "        l = len(df)-1\n",
    "        for i in range (0, l-1):\n",
    "            c = c + df[i] + '-'\n",
    "        return c + df[l]\n",
    "    else:\n",
    "        return ''"
   ]
  },
  {
   "cell_type": "markdown",
   "metadata": {
    "collapsed": false
   },
   "source": [
    "> The goal here is to agregate orders constituted by credited products to the 3PAS file"
   ]
  },
  {
   "cell_type": "code",
   "execution_count": 44,
   "metadata": {
    "collapsed": false
   },
   "outputs": [
    {
     "data": {
      "text/html": [
       "<div style=\"max-height:1000px;max-width:1500px;overflow:auto;\">\n",
       "<table border=\"1\" class=\"dataframe\">\n",
       "  <thead>\n",
       "    <tr style=\"text-align: right;\">\n",
       "      <th></th>\n",
       "      <th>key</th>\n",
       "      <th>nom_site</th>\n",
       "      <th>gamme_produit</th>\n",
       "      <th>prix_produit</th>\n",
       "      <th>nombre_produit</th>\n",
       "      <th>prix_ht_zanox</th>\n",
       "      <th>revenue_transaction</th>\n",
       "      <th>panier</th>\n",
       "    </tr>\n",
       "  </thead>\n",
       "  <tbody>\n",
       "    <tr>\n",
       "      <th>0</th>\n",
       "      <td>2016-03-10_1123_7485_1731</td>\n",
       "      <td>Part</td>\n",
       "      <td>PD</td>\n",
       "      <td>37.50</td>\n",
       "      <td>1</td>\n",
       "      <td>37.50</td>\n",
       "      <td>37.50</td>\n",
       "      <td>PD</td>\n",
       "    </tr>\n",
       "    <tr>\n",
       "      <th>1</th>\n",
       "      <td>2016-03-10_1123_7485_1731</td>\n",
       "      <td>Pro</td>\n",
       "      <td>MTEL</td>\n",
       "      <td>17.00</td>\n",
       "      <td>1</td>\n",
       "      <td>17.00</td>\n",
       "      <td>17.00</td>\n",
       "      <td>MTEL</td>\n",
       "    </tr>\n",
       "    <tr>\n",
       "      <th>2</th>\n",
       "      <td>2016-03-10_1123_7485_1731</td>\n",
       "      <td>Part</td>\n",
       "      <td>MTEL</td>\n",
       "      <td>16.32</td>\n",
       "      <td>24</td>\n",
       "      <td>16.32</td>\n",
       "      <td>16.32</td>\n",
       "      <td>MTEL</td>\n",
       "    </tr>\n",
       "    <tr>\n",
       "      <th>3</th>\n",
       "      <td>2016-03-10_1123_7492_1735</td>\n",
       "      <td>Part</td>\n",
       "      <td>Produit_physique_part|Produit_physique_part|Pr...</td>\n",
       "      <td>3.55|1.96|1.25|4.56|4.10|0.95|0.68|0.68|0.68|1...</td>\n",
       "      <td>1|1|1|1|1|1|1|1|1|1|1|1|1|1|1|1|1|1|1|1|1|1|1|...</td>\n",
       "      <td>48.21</td>\n",
       "      <td>48.21</td>\n",
       "      <td>Mixte_non_comptabilise</td>\n",
       "    </tr>\n",
       "  </tbody>\n",
       "</table>\n",
       "</div>"
      ],
      "text/plain": [
       "                         key nom_site  \\\n",
       "0  2016-03-10_1123_7485_1731     Part   \n",
       "1  2016-03-10_1123_7485_1731      Pro   \n",
       "2  2016-03-10_1123_7485_1731     Part   \n",
       "3  2016-03-10_1123_7492_1735     Part   \n",
       "\n",
       "                                       gamme_produit  \\\n",
       "0                                                 PD   \n",
       "1                                               MTEL   \n",
       "2                                               MTEL   \n",
       "3  Produit_physique_part|Produit_physique_part|Pr...   \n",
       "\n",
       "                                        prix_produit  \\\n",
       "0                                              37.50   \n",
       "1                                              17.00   \n",
       "2                                              16.32   \n",
       "3  3.55|1.96|1.25|4.56|4.10|0.95|0.68|0.68|0.68|1...   \n",
       "\n",
       "                                      nombre_produit prix_ht_zanox  \\\n",
       "0                                                  1         37.50   \n",
       "1                                                  1         17.00   \n",
       "2                                                 24         16.32   \n",
       "3  1|1|1|1|1|1|1|1|1|1|1|1|1|1|1|1|1|1|1|1|1|1|1|...         48.21   \n",
       "\n",
       "   revenue_transaction                  panier  \n",
       "0                37.50                      PD  \n",
       "1                17.00                    MTEL  \n",
       "2                16.32                    MTEL  \n",
       "3                48.21  Mixte_non_comptabilise  "
      ]
     },
     "execution_count": 44,
     "metadata": {},
     "output_type": "execute_result"
    }
   ],
   "source": [
    "\n",
    "details3PAS = detailedConversions[['key','nom_site','gamme_produit', 'prix_produit','nombre_produit' ,'prix_ht_zanox']]\n",
    "details3PAS = pd.DataFrame(details3PAS).dropna()\n",
    "    \n",
    "details3PAS['revenue_transaction'] = details3PAS.prix_ht_zanox.apply(lambda x: cleanrev(x))\n",
    "details3PAS['panier'] = details3PAS.gamme_produit.apply(lambda x: cleanGamme(x,gamme_prod))\n",
    "\n",
    "details3PAS.head(4)"
   ]
  },
  {
   "cell_type": "code",
   "execution_count": 49,
   "metadata": {
    "collapsed": false
   },
   "outputs": [
    {
     "data": {
      "text/html": [
       "<div style=\"max-height:1000px;max-width:1500px;overflow:auto;\">\n",
       "<table border=\"1\" class=\"dataframe\">\n",
       "  <thead>\n",
       "    <tr style=\"text-align: right;\">\n",
       "      <th></th>\n",
       "      <th>key</th>\n",
       "      <th>nom_site</th>\n",
       "      <th>gamme_produit</th>\n",
       "      <th>prix_produit</th>\n",
       "      <th>nombre_produit</th>\n",
       "      <th>prix_ht_zanox</th>\n",
       "      <th>revenue_transaction</th>\n",
       "      <th>panier</th>\n",
       "    </tr>\n",
       "  </thead>\n",
       "  <tbody>\n",
       "    <tr>\n",
       "      <th>188</th>\n",
       "      <td>2016-03-14_1123_7491_1740</td>\n",
       "      <td>Part</td>\n",
       "      <td>Produit_physique_part|Produit_physique_part|DN</td>\n",
       "      <td>8.40|8.40|25.50</td>\n",
       "      <td>1|1|1</td>\n",
       "      <td>42.30</td>\n",
       "      <td>42.30</td>\n",
       "      <td>Mixte</td>\n",
       "    </tr>\n",
       "    <tr>\n",
       "      <th>209</th>\n",
       "      <td>2016-03-15_1123_7485_1731</td>\n",
       "      <td>Part</td>\n",
       "      <td>VREL|DN</td>\n",
       "      <td>6.91|46.00</td>\n",
       "      <td>1|1</td>\n",
       "      <td>52.91</td>\n",
       "      <td>52.91</td>\n",
       "      <td>Mixte</td>\n",
       "    </tr>\n",
       "  </tbody>\n",
       "</table>\n",
       "</div>"
      ],
      "text/plain": [
       "                           key nom_site  \\\n",
       "188  2016-03-14_1123_7491_1740     Part   \n",
       "209  2016-03-15_1123_7485_1731     Part   \n",
       "\n",
       "                                      gamme_produit     prix_produit  \\\n",
       "188  Produit_physique_part|Produit_physique_part|DN  8.40|8.40|25.50   \n",
       "209                                         VREL|DN       6.91|46.00   \n",
       "\n",
       "    nombre_produit prix_ht_zanox  revenue_transaction panier  \n",
       "188          1|1|1         42.30                42.30  Mixte  \n",
       "209            1|1         52.91                52.91  Mixte  "
      ]
     },
     "execution_count": 49,
     "metadata": {},
     "output_type": "execute_result"
    }
   ],
   "source": [
    "#details3PAS[details3PAS.panier == 'Mixte'].head(4)"
   ]
  },
  {
   "cell_type": "markdown",
   "metadata": {},
   "source": [
    "# /!\\  Section to be used once files are correctly populated"
   ]
  },
  {
   "cell_type": "code",
   "execution_count": 82,
   "metadata": {
    "collapsed": false
   },
   "outputs": [
    {
     "data": {
      "text/html": [
       "<div style=\"max-height:1000px;max-width:1500px;overflow:auto;\">\n",
       "<table border=\"1\" class=\"dataframe\">\n",
       "  <thead>\n",
       "    <tr style=\"text-align: right;\">\n",
       "      <th></th>\n",
       "      <th>key</th>\n",
       "      <th>revenue_transaction</th>\n",
       "      <th>panier</th>\n",
       "      <th>order</th>\n",
       "    </tr>\n",
       "  </thead>\n",
       "  <tbody>\n",
       "    <tr>\n",
       "      <th>0</th>\n",
       "      <td>2016-03-10_1123_7485_1731</td>\n",
       "      <td>37.50</td>\n",
       "      <td>PD</td>\n",
       "      <td>PD-37.5</td>\n",
       "    </tr>\n",
       "    <tr>\n",
       "      <th>1</th>\n",
       "      <td>2016-03-10_1123_7485_1731</td>\n",
       "      <td>17.00</td>\n",
       "      <td>MTEL</td>\n",
       "      <td>MTEL-17.0</td>\n",
       "    </tr>\n",
       "    <tr>\n",
       "      <th>2</th>\n",
       "      <td>2016-03-10_1123_7485_1731</td>\n",
       "      <td>16.32</td>\n",
       "      <td>MTEL</td>\n",
       "      <td>MTEL-16.32</td>\n",
       "    </tr>\n",
       "    <tr>\n",
       "      <th>3</th>\n",
       "      <td>2016-03-10_1123_7492_1735</td>\n",
       "      <td>48.21</td>\n",
       "      <td>Mixte</td>\n",
       "      <td>Produit_physique_part-3.55|Produit_physique_pa...</td>\n",
       "    </tr>\n",
       "    <tr>\n",
       "      <th>4</th>\n",
       "      <td>2016-03-10_1123_7487_1735</td>\n",
       "      <td>58.50</td>\n",
       "      <td>PD</td>\n",
       "      <td>PD-58.5</td>\n",
       "    </tr>\n",
       "  </tbody>\n",
       "</table>\n",
       "</div>"
      ],
      "text/plain": [
       "                         key  revenue_transaction panier  \\\n",
       "0  2016-03-10_1123_7485_1731                37.50     PD   \n",
       "1  2016-03-10_1123_7485_1731                17.00   MTEL   \n",
       "2  2016-03-10_1123_7485_1731                16.32   MTEL   \n",
       "3  2016-03-10_1123_7492_1735                48.21  Mixte   \n",
       "4  2016-03-10_1123_7487_1735                58.50     PD   \n",
       "\n",
       "                                               order  \n",
       "0                                            PD-37.5  \n",
       "1                                          MTEL-17.0  \n",
       "2                                         MTEL-16.32  \n",
       "3  Produit_physique_part-3.55|Produit_physique_pa...  \n",
       "4                                            PD-58.5  "
      ]
     },
     "execution_count": 82,
     "metadata": {},
     "output_type": "execute_result"
    }
   ],
   "source": [
    "#reorder products with unit prices\n",
    "\n",
    "#http://stackoverflow.com/questions/13331698/how-to-apply-a-function-to-two-columns-of-pandas-dataframe\n",
    "#http://stackoverflow.com/questions/19914937/applying-function-with-multiple-arguments-to-create-a-new-pandas-column\n",
    "\n",
    "details3PAS['order'] = details3PAS[['gamme_produit','prix_produit','nombre_produit']].apply(cleanProduitMix, axis = 1)\n",
    "details3PAS = details3PAS.drop(['gamme_produit','nombre_produit','prix_produit','prix_ht_zanox'],1)\n",
    "details3PAS.head(5)"
   ]
  },
  {
   "cell_type": "code",
   "execution_count": 83,
   "metadata": {
    "collapsed": false
   },
   "outputs": [
    {
     "data": {
      "text/html": [
       "<div style=\"max-height:1000px;max-width:1500px;overflow:auto;\">\n",
       "<table border=\"1\" class=\"dataframe\">\n",
       "  <thead>\n",
       "    <tr style=\"text-align: right;\">\n",
       "      <th></th>\n",
       "      <th>key</th>\n",
       "      <th>revenue_transaction</th>\n",
       "      <th>panier</th>\n",
       "      <th>order</th>\n",
       "    </tr>\n",
       "  </thead>\n",
       "  <tbody>\n",
       "    <tr>\n",
       "      <th>3</th>\n",
       "      <td>2016-03-10_1123_7492_1735</td>\n",
       "      <td>48.21</td>\n",
       "      <td>Mixte</td>\n",
       "      <td>Produit_physique_part-3.55|Produit_physique_pa...</td>\n",
       "    </tr>\n",
       "    <tr>\n",
       "      <th>82</th>\n",
       "      <td>2016-03-13_1123_7487_1735</td>\n",
       "      <td>23.28</td>\n",
       "      <td>Mixte</td>\n",
       "      <td>LRE-6.48</td>\n",
       "    </tr>\n",
       "    <tr>\n",
       "      <th>188</th>\n",
       "      <td>2016-03-14_1123_7491_1740</td>\n",
       "      <td>42.30</td>\n",
       "      <td>Mixte</td>\n",
       "      <td>Produit_physique_part-8.4|DN-25.5</td>\n",
       "    </tr>\n",
       "    <tr>\n",
       "      <th>198</th>\n",
       "      <td>2016-03-15_1123_7485_1731</td>\n",
       "      <td>40.59</td>\n",
       "      <td>Mixte</td>\n",
       "      <td>Produit_physique_part-5.6|AELC-12.15|AELC-6.1|...</td>\n",
       "    </tr>\n",
       "    <tr>\n",
       "      <th>209</th>\n",
       "      <td>2016-03-15_1123_7485_1731</td>\n",
       "      <td>52.91</td>\n",
       "      <td>Mixte</td>\n",
       "      <td>DN-46.0</td>\n",
       "    </tr>\n",
       "    <tr>\n",
       "      <th>352</th>\n",
       "      <td>2016-03-16_1123_7487_1735</td>\n",
       "      <td>40.64</td>\n",
       "      <td>Mixte</td>\n",
       "      <td>AELC-7.5|Produit_physique_part-5.44|Produit_ph...</td>\n",
       "    </tr>\n",
       "    <tr>\n",
       "      <th>464</th>\n",
       "      <td>2016-03-18_1123_7485_1731</td>\n",
       "      <td>71.81</td>\n",
       "      <td>Mixte</td>\n",
       "      <td>Produit_physique_part-8.4|Produit_physique_par...</td>\n",
       "    </tr>\n",
       "    <tr>\n",
       "      <th>480</th>\n",
       "      <td>2016-03-18_1123_7873_1732</td>\n",
       "      <td>43.50</td>\n",
       "      <td>Mixte</td>\n",
       "      <td>Produit_physique_part-9.6|Produit_physique_par...</td>\n",
       "    </tr>\n",
       "    <tr>\n",
       "      <th>513</th>\n",
       "      <td>2016-03-19_1123_7873_1732</td>\n",
       "      <td>81.88</td>\n",
       "      <td>Mixte</td>\n",
       "      <td>MTEL-35.64|MTEL-4.15|MTEL-8.04|MTEL-6.45|AELC-...</td>\n",
       "    </tr>\n",
       "    <tr>\n",
       "      <th>1048</th>\n",
       "      <td>2016-03-25_1123_7485_1731</td>\n",
       "      <td>8.48</td>\n",
       "      <td>Mixte</td>\n",
       "      <td>LRE-6.73</td>\n",
       "    </tr>\n",
       "  </tbody>\n",
       "</table>\n",
       "</div>"
      ],
      "text/plain": [
       "                            key  revenue_transaction panier  \\\n",
       "3     2016-03-10_1123_7492_1735                48.21  Mixte   \n",
       "82    2016-03-13_1123_7487_1735                23.28  Mixte   \n",
       "188   2016-03-14_1123_7491_1740                42.30  Mixte   \n",
       "198   2016-03-15_1123_7485_1731                40.59  Mixte   \n",
       "209   2016-03-15_1123_7485_1731                52.91  Mixte   \n",
       "352   2016-03-16_1123_7487_1735                40.64  Mixte   \n",
       "464   2016-03-18_1123_7485_1731                71.81  Mixte   \n",
       "480   2016-03-18_1123_7873_1732                43.50  Mixte   \n",
       "513   2016-03-19_1123_7873_1732                81.88  Mixte   \n",
       "1048  2016-03-25_1123_7485_1731                 8.48  Mixte   \n",
       "\n",
       "                                                  order  \n",
       "3     Produit_physique_part-3.55|Produit_physique_pa...  \n",
       "82                                             LRE-6.48  \n",
       "188                   Produit_physique_part-8.4|DN-25.5  \n",
       "198   Produit_physique_part-5.6|AELC-12.15|AELC-6.1|...  \n",
       "209                                             DN-46.0  \n",
       "352   AELC-7.5|Produit_physique_part-5.44|Produit_ph...  \n",
       "464   Produit_physique_part-8.4|Produit_physique_par...  \n",
       "480   Produit_physique_part-9.6|Produit_physique_par...  \n",
       "513   MTEL-35.64|MTEL-4.15|MTEL-8.04|MTEL-6.45|AELC-...  \n",
       "1048                                           LRE-6.73  "
      ]
     },
     "execution_count": 83,
     "metadata": {},
     "output_type": "execute_result"
    }
   ],
   "source": [
    "# It seems files are not accurately populated. \n",
    "# As basket details don't match actual basket (sum does not equals revenue transaction) we cannot use Mixed baskets\n",
    "details3PAS[details3PAS.panier == 'Mixte'].head(10)"
   ]
  },
  {
   "cell_type": "markdown",
   "metadata": {
    "collapsed": true
   },
   "source": [
    "> We need to create a row per product purchased"
   ]
  },
  {
   "cell_type": "code",
   "execution_count": 84,
   "metadata": {
    "collapsed": false
   },
   "outputs": [
    {
     "data": {
      "text/html": [
       "<div style=\"max-height:1000px;max-width:1500px;overflow:auto;\">\n",
       "<table border=\"1\" class=\"dataframe\">\n",
       "  <thead>\n",
       "    <tr style=\"text-align: right;\">\n",
       "      <th></th>\n",
       "      <th>key</th>\n",
       "      <th>revenue_transaction</th>\n",
       "      <th>panier</th>\n",
       "      <th>order</th>\n",
       "    </tr>\n",
       "  </thead>\n",
       "  <tbody>\n",
       "    <tr>\n",
       "      <th>0</th>\n",
       "      <td>2016-03-10_1123_7485_1731</td>\n",
       "      <td>37.50</td>\n",
       "      <td>PD</td>\n",
       "      <td>PD-37.5</td>\n",
       "    </tr>\n",
       "    <tr>\n",
       "      <th>1</th>\n",
       "      <td>2016-03-10_1123_7485_1731</td>\n",
       "      <td>17.00</td>\n",
       "      <td>MTEL</td>\n",
       "      <td>MTEL-17.0</td>\n",
       "    </tr>\n",
       "    <tr>\n",
       "      <th>2</th>\n",
       "      <td>2016-03-10_1123_7485_1731</td>\n",
       "      <td>16.32</td>\n",
       "      <td>MTEL</td>\n",
       "      <td>MTEL-16.32</td>\n",
       "    </tr>\n",
       "    <tr>\n",
       "      <th>3</th>\n",
       "      <td>2016-03-10_1123_7492_1735</td>\n",
       "      <td>48.21</td>\n",
       "      <td>Mixte</td>\n",
       "      <td>Produit_physique_part-3.55</td>\n",
       "    </tr>\n",
       "    <tr>\n",
       "      <th>3</th>\n",
       "      <td>2016-03-10_1123_7492_1735</td>\n",
       "      <td>48.21</td>\n",
       "      <td>Mixte</td>\n",
       "      <td>Produit_physique_part-1.96</td>\n",
       "    </tr>\n",
       "    <tr>\n",
       "      <th>3</th>\n",
       "      <td>2016-03-10_1123_7492_1735</td>\n",
       "      <td>48.21</td>\n",
       "      <td>Mixte</td>\n",
       "      <td>Produit_physique_part-1.25</td>\n",
       "    </tr>\n",
       "    <tr>\n",
       "      <th>3</th>\n",
       "      <td>2016-03-10_1123_7492_1735</td>\n",
       "      <td>48.21</td>\n",
       "      <td>Mixte</td>\n",
       "      <td>Produit_physique_part-4.56</td>\n",
       "    </tr>\n",
       "    <tr>\n",
       "      <th>3</th>\n",
       "      <td>2016-03-10_1123_7492_1735</td>\n",
       "      <td>48.21</td>\n",
       "      <td>Mixte</td>\n",
       "      <td>Produit_physique_part-4.1</td>\n",
       "    </tr>\n",
       "    <tr>\n",
       "      <th>3</th>\n",
       "      <td>2016-03-10_1123_7492_1735</td>\n",
       "      <td>48.21</td>\n",
       "      <td>Mixte</td>\n",
       "      <td>Produit_physique_part-0.95</td>\n",
       "    </tr>\n",
       "    <tr>\n",
       "      <th>3</th>\n",
       "      <td>2016-03-10_1123_7492_1735</td>\n",
       "      <td>48.21</td>\n",
       "      <td>Mixte</td>\n",
       "      <td>Produit_physique_part-0.68</td>\n",
       "    </tr>\n",
       "    <tr>\n",
       "      <th>3</th>\n",
       "      <td>2016-03-10_1123_7492_1735</td>\n",
       "      <td>48.21</td>\n",
       "      <td>Mixte</td>\n",
       "      <td>Produit_physique_part-0.68</td>\n",
       "    </tr>\n",
       "    <tr>\n",
       "      <th>3</th>\n",
       "      <td>2016-03-10_1123_7492_1735</td>\n",
       "      <td>48.21</td>\n",
       "      <td>Mixte</td>\n",
       "      <td>Produit_physique_part-0.68</td>\n",
       "    </tr>\n",
       "    <tr>\n",
       "      <th>3</th>\n",
       "      <td>2016-03-10_1123_7492_1735</td>\n",
       "      <td>48.21</td>\n",
       "      <td>Mixte</td>\n",
       "      <td>Produit_physique_part-1.96</td>\n",
       "    </tr>\n",
       "    <tr>\n",
       "      <th>3</th>\n",
       "      <td>2016-03-10_1123_7492_1735</td>\n",
       "      <td>48.21</td>\n",
       "      <td>Mixte</td>\n",
       "      <td>Produit_physi-2.6</td>\n",
       "    </tr>\n",
       "    <tr>\n",
       "      <th>4</th>\n",
       "      <td>2016-03-10_1123_7487_1735</td>\n",
       "      <td>58.50</td>\n",
       "      <td>PD</td>\n",
       "      <td>PD-58.5</td>\n",
       "    </tr>\n",
       "    <tr>\n",
       "      <th>5</th>\n",
       "      <td>2016-03-10_1123_7485_1731</td>\n",
       "      <td>6.48</td>\n",
       "      <td>LRE</td>\n",
       "      <td>LRE-6.48</td>\n",
       "    </tr>\n",
       "    <tr>\n",
       "      <th>6</th>\n",
       "      <td>2016-03-10_1123_7488_1732</td>\n",
       "      <td>7.50</td>\n",
       "      <td>AELC</td>\n",
       "      <td>AELC-7.5</td>\n",
       "    </tr>\n",
       "    <tr>\n",
       "      <th>7</th>\n",
       "      <td>2016-03-10_1123_7490_1731</td>\n",
       "      <td>25.50</td>\n",
       "      <td>DN</td>\n",
       "      <td>DN-25.5</td>\n",
       "    </tr>\n",
       "    <tr>\n",
       "      <th>8</th>\n",
       "      <td>2016-03-10_1123_7873_1732</td>\n",
       "      <td>6.10</td>\n",
       "      <td>AELC</td>\n",
       "      <td>AELC-6.1</td>\n",
       "    </tr>\n",
       "    <tr>\n",
       "      <th>9</th>\n",
       "      <td>2016-03-10_1123_7492_1735</td>\n",
       "      <td>25.50</td>\n",
       "      <td>DN</td>\n",
       "      <td>DN-25.5</td>\n",
       "    </tr>\n",
       "  </tbody>\n",
       "</table>\n",
       "</div>"
      ],
      "text/plain": [
       "                         key  revenue_transaction panier  \\\n",
       "0  2016-03-10_1123_7485_1731                37.50     PD   \n",
       "1  2016-03-10_1123_7485_1731                17.00   MTEL   \n",
       "2  2016-03-10_1123_7485_1731                16.32   MTEL   \n",
       "3  2016-03-10_1123_7492_1735                48.21  Mixte   \n",
       "3  2016-03-10_1123_7492_1735                48.21  Mixte   \n",
       "3  2016-03-10_1123_7492_1735                48.21  Mixte   \n",
       "3  2016-03-10_1123_7492_1735                48.21  Mixte   \n",
       "3  2016-03-10_1123_7492_1735                48.21  Mixte   \n",
       "3  2016-03-10_1123_7492_1735                48.21  Mixte   \n",
       "3  2016-03-10_1123_7492_1735                48.21  Mixte   \n",
       "3  2016-03-10_1123_7492_1735                48.21  Mixte   \n",
       "3  2016-03-10_1123_7492_1735                48.21  Mixte   \n",
       "3  2016-03-10_1123_7492_1735                48.21  Mixte   \n",
       "3  2016-03-10_1123_7492_1735                48.21  Mixte   \n",
       "4  2016-03-10_1123_7487_1735                58.50     PD   \n",
       "5  2016-03-10_1123_7485_1731                 6.48    LRE   \n",
       "6  2016-03-10_1123_7488_1732                 7.50   AELC   \n",
       "7  2016-03-10_1123_7490_1731                25.50     DN   \n",
       "8  2016-03-10_1123_7873_1732                 6.10   AELC   \n",
       "9  2016-03-10_1123_7492_1735                25.50     DN   \n",
       "\n",
       "                        order  \n",
       "0                     PD-37.5  \n",
       "1                   MTEL-17.0  \n",
       "2                  MTEL-16.32  \n",
       "3  Produit_physique_part-3.55  \n",
       "3  Produit_physique_part-1.96  \n",
       "3  Produit_physique_part-1.25  \n",
       "3  Produit_physique_part-4.56  \n",
       "3   Produit_physique_part-4.1  \n",
       "3  Produit_physique_part-0.95  \n",
       "3  Produit_physique_part-0.68  \n",
       "3  Produit_physique_part-0.68  \n",
       "3  Produit_physique_part-0.68  \n",
       "3  Produit_physique_part-1.96  \n",
       "3           Produit_physi-2.6  \n",
       "4                     PD-58.5  \n",
       "5                    LRE-6.48  \n",
       "6                    AELC-7.5  \n",
       "7                     DN-25.5  \n",
       "8                    AELC-6.1  \n",
       "9                     DN-25.5  "
      ]
     },
     "execution_count": 84,
     "metadata": {},
     "output_type": "execute_result"
    }
   ],
   "source": [
    "#http://stackoverflow.com/questions/17116814/pandas-how-do-i-split-text-in-a-column-into-multiple-rows\n",
    "#http://stackoverflow.com/questions/33622470/fast-way-to-split-column-into-multiple-rows-in-pandas\n",
    "\n",
    "s = details3PAS['order'].str.split(\"|\", expand=True).stack()\n",
    "i = s.index.get_level_values(0)\n",
    "df = details3PAS.loc[i].copy()\n",
    "df[\"order\"] = s.values\n",
    "df.head(20)"
   ]
  },
  {
   "cell_type": "code",
   "execution_count": 221,
   "metadata": {
    "collapsed": false
   },
   "outputs": [
    {
     "data": {
      "text/html": [
       "<div style=\"max-height:1000px;max-width:1500px;overflow:auto;\">\n",
       "<table border=\"1\" class=\"dataframe\">\n",
       "  <thead>\n",
       "    <tr style=\"text-align: right;\">\n",
       "      <th></th>\n",
       "      <th>key</th>\n",
       "      <th>revenue_transaction</th>\n",
       "      <th>panier</th>\n",
       "      <th>item</th>\n",
       "      <th>unit_price</th>\n",
       "    </tr>\n",
       "  </thead>\n",
       "  <tbody>\n",
       "    <tr>\n",
       "      <th>0</th>\n",
       "      <td>2016-03-10_1123_7485_1731</td>\n",
       "      <td>37.50</td>\n",
       "      <td>PD</td>\n",
       "      <td>PD</td>\n",
       "      <td>37.50</td>\n",
       "    </tr>\n",
       "    <tr>\n",
       "      <th>1</th>\n",
       "      <td>2016-03-10_1123_7485_1731</td>\n",
       "      <td>17.00</td>\n",
       "      <td>MTEL</td>\n",
       "      <td>MTEL</td>\n",
       "      <td>17.00</td>\n",
       "    </tr>\n",
       "    <tr>\n",
       "      <th>2</th>\n",
       "      <td>2016-03-10_1123_7485_1731</td>\n",
       "      <td>16.32</td>\n",
       "      <td>MTEL</td>\n",
       "      <td>MTEL</td>\n",
       "      <td>16.32</td>\n",
       "    </tr>\n",
       "    <tr>\n",
       "      <th>3</th>\n",
       "      <td>2016-03-10_1123_7492_1735</td>\n",
       "      <td>48.21</td>\n",
       "      <td>Mixte</td>\n",
       "      <td>Produit_physique_part</td>\n",
       "      <td>3.55</td>\n",
       "    </tr>\n",
       "    <tr>\n",
       "      <th>3</th>\n",
       "      <td>2016-03-10_1123_7492_1735</td>\n",
       "      <td>48.21</td>\n",
       "      <td>Mixte</td>\n",
       "      <td>Produit_physique_part</td>\n",
       "      <td>1.96</td>\n",
       "    </tr>\n",
       "    <tr>\n",
       "      <th>3</th>\n",
       "      <td>2016-03-10_1123_7492_1735</td>\n",
       "      <td>48.21</td>\n",
       "      <td>Mixte</td>\n",
       "      <td>Produit_physique_part</td>\n",
       "      <td>1.25</td>\n",
       "    </tr>\n",
       "    <tr>\n",
       "      <th>3</th>\n",
       "      <td>2016-03-10_1123_7492_1735</td>\n",
       "      <td>48.21</td>\n",
       "      <td>Mixte</td>\n",
       "      <td>Produit_physique_part</td>\n",
       "      <td>4.56</td>\n",
       "    </tr>\n",
       "    <tr>\n",
       "      <th>3</th>\n",
       "      <td>2016-03-10_1123_7492_1735</td>\n",
       "      <td>48.21</td>\n",
       "      <td>Mixte</td>\n",
       "      <td>Produit_physique_part</td>\n",
       "      <td>4.10</td>\n",
       "    </tr>\n",
       "    <tr>\n",
       "      <th>3</th>\n",
       "      <td>2016-03-10_1123_7492_1735</td>\n",
       "      <td>48.21</td>\n",
       "      <td>Mixte</td>\n",
       "      <td>Produit_physique_part</td>\n",
       "      <td>0.95</td>\n",
       "    </tr>\n",
       "    <tr>\n",
       "      <th>3</th>\n",
       "      <td>2016-03-10_1123_7492_1735</td>\n",
       "      <td>48.21</td>\n",
       "      <td>Mixte</td>\n",
       "      <td>Produit_physique_part</td>\n",
       "      <td>0.68</td>\n",
       "    </tr>\n",
       "    <tr>\n",
       "      <th>3</th>\n",
       "      <td>2016-03-10_1123_7492_1735</td>\n",
       "      <td>48.21</td>\n",
       "      <td>Mixte</td>\n",
       "      <td>Produit_physique_part</td>\n",
       "      <td>0.68</td>\n",
       "    </tr>\n",
       "    <tr>\n",
       "      <th>3</th>\n",
       "      <td>2016-03-10_1123_7492_1735</td>\n",
       "      <td>48.21</td>\n",
       "      <td>Mixte</td>\n",
       "      <td>Produit_physique_part</td>\n",
       "      <td>0.68</td>\n",
       "    </tr>\n",
       "    <tr>\n",
       "      <th>3</th>\n",
       "      <td>2016-03-10_1123_7492_1735</td>\n",
       "      <td>48.21</td>\n",
       "      <td>Mixte</td>\n",
       "      <td>Produit_physique_part</td>\n",
       "      <td>1.96</td>\n",
       "    </tr>\n",
       "    <tr>\n",
       "      <th>3</th>\n",
       "      <td>2016-03-10_1123_7492_1735</td>\n",
       "      <td>48.21</td>\n",
       "      <td>Mixte</td>\n",
       "      <td>Produit_physi</td>\n",
       "      <td>2.60</td>\n",
       "    </tr>\n",
       "    <tr>\n",
       "      <th>3</th>\n",
       "      <td>2016-03-10_1123_7492_1735</td>\n",
       "      <td>48.21</td>\n",
       "      <td>Mixte</td>\n",
       "      <td>Produit_physique_part</td>\n",
       "      <td>3.55</td>\n",
       "    </tr>\n",
       "  </tbody>\n",
       "</table>\n",
       "</div>"
      ],
      "text/plain": [
       "                         key  revenue_transaction panier  \\\n",
       "0  2016-03-10_1123_7485_1731                37.50     PD   \n",
       "1  2016-03-10_1123_7485_1731                17.00   MTEL   \n",
       "2  2016-03-10_1123_7485_1731                16.32   MTEL   \n",
       "3  2016-03-10_1123_7492_1735                48.21  Mixte   \n",
       "3  2016-03-10_1123_7492_1735                48.21  Mixte   \n",
       "3  2016-03-10_1123_7492_1735                48.21  Mixte   \n",
       "3  2016-03-10_1123_7492_1735                48.21  Mixte   \n",
       "3  2016-03-10_1123_7492_1735                48.21  Mixte   \n",
       "3  2016-03-10_1123_7492_1735                48.21  Mixte   \n",
       "3  2016-03-10_1123_7492_1735                48.21  Mixte   \n",
       "3  2016-03-10_1123_7492_1735                48.21  Mixte   \n",
       "3  2016-03-10_1123_7492_1735                48.21  Mixte   \n",
       "3  2016-03-10_1123_7492_1735                48.21  Mixte   \n",
       "3  2016-03-10_1123_7492_1735                48.21  Mixte   \n",
       "3  2016-03-10_1123_7492_1735                48.21  Mixte   \n",
       "\n",
       "                    item unit_price  \n",
       "0                     PD      37.50  \n",
       "1                   MTEL      17.00  \n",
       "2                   MTEL      16.32  \n",
       "3  Produit_physique_part       3.55  \n",
       "3  Produit_physique_part       1.96  \n",
       "3  Produit_physique_part       1.25  \n",
       "3  Produit_physique_part       4.56  \n",
       "3  Produit_physique_part       4.10  \n",
       "3  Produit_physique_part       0.95  \n",
       "3  Produit_physique_part       0.68  \n",
       "3  Produit_physique_part       0.68  \n",
       "3  Produit_physique_part       0.68  \n",
       "3  Produit_physique_part       1.96  \n",
       "3          Produit_physi       2.60  \n",
       "3  Produit_physique_part       3.55  "
      ]
     },
     "execution_count": 221,
     "metadata": {},
     "output_type": "execute_result"
    }
   ],
   "source": [
    "df = df.drop(['gamme_produit','prix_produit', 'prix_ht_zanox'], 1)\n",
    "\n",
    "s = df.order.apply(lambda x: pd.Series(x.split('-')))\n",
    "\n",
    "df = df.drop(['order'], 1)\n",
    "\n",
    "# prepare columns name for when we split order column\n",
    "c = df.columns.values\n",
    "c = np.append('key','item','unit_price'], axis = 0)\n",
    "\n",
    "df = df.join(s)\n",
    "df.columns =  c\n",
    "\n",
    "df.head(15)"
   ]
  },
  {
   "cell_type": "code",
   "execution_count": 86,
   "metadata": {
    "collapsed": false
   },
   "outputs": [
    {
     "data": {
      "text/html": [
       "<div style=\"max-height:1000px;max-width:1500px;overflow:auto;\">\n",
       "<table border=\"1\" class=\"dataframe\">\n",
       "  <thead>\n",
       "    <tr style=\"text-align: right;\">\n",
       "      <th></th>\n",
       "      <th>key</th>\n",
       "      <th>revenue_transaction</th>\n",
       "      <th>panier</th>\n",
       "      <th>order</th>\n",
       "    </tr>\n",
       "  </thead>\n",
       "  <tbody>\n",
       "    <tr>\n",
       "      <th>3721</th>\n",
       "      <td>2016-04-10_1123_7484_1733</td>\n",
       "      <td>25.50</td>\n",
       "      <td>DN</td>\n",
       "      <td>DN-25.5</td>\n",
       "    </tr>\n",
       "    <tr>\n",
       "      <th>3722</th>\n",
       "      <td>2016-04-10_1123_7873_1732</td>\n",
       "      <td>6.10</td>\n",
       "      <td>AELC</td>\n",
       "      <td>AELC-6.1</td>\n",
       "    </tr>\n",
       "    <tr>\n",
       "      <th>3723</th>\n",
       "      <td>2016-04-10_1123_7485_1731</td>\n",
       "      <td>7.67</td>\n",
       "      <td>LRE</td>\n",
       "      <td>LRE-7.67</td>\n",
       "    </tr>\n",
       "  </tbody>\n",
       "</table>\n",
       "</div>"
      ],
      "text/plain": [
       "                            key  revenue_transaction panier     order\n",
       "3721  2016-04-10_1123_7484_1733                25.50     DN   DN-25.5\n",
       "3722  2016-04-10_1123_7873_1732                 6.10   AELC  AELC-6.1\n",
       "3723  2016-04-10_1123_7485_1731                 7.67    LRE  LRE-7.67"
      ]
     },
     "execution_count": 86,
     "metadata": {},
     "output_type": "execute_result"
    }
   ],
   "source": [
    "df.tail(3)"
   ]
  },
  {
   "cell_type": "markdown",
   "metadata": {
    "collapsed": false
   },
   "source": [
    "> Performances summary"
   ]
  },
  {
   "cell_type": "code",
   "execution_count": 186,
   "metadata": {
    "collapsed": false
   },
   "outputs": [
    {
     "data": {
      "text/plain": [
       "key                    4223\n",
       "gamme_produit          4223\n",
       "prix_produit           4223\n",
       "prix_ht_zanox          4223\n",
       "revenue_transaction    4223\n",
       "panier                 4223\n",
       "order                  4223\n",
       "item                   4223\n",
       "unit_price             4223\n",
       "dtype: int64"
      ]
     },
     "execution_count": 186,
     "metadata": {},
     "output_type": "execute_result"
    }
   ],
   "source": [
    "df.count()"
   ]
  },
  {
   "cell_type": "markdown",
   "metadata": {
    "collapsed": false
   },
   "source": [
    "# /!\\ filter dataset"
   ]
  },
  {
   "cell_type": "code",
   "execution_count": 45,
   "metadata": {
    "collapsed": false
   },
   "outputs": [
    {
     "data": {
      "text/plain": [
       "key                    3647\n",
       "nom_site               3647\n",
       "gamme_produit          3647\n",
       "prix_produit           3647\n",
       "nombre_produit         3647\n",
       "prix_ht_zanox          3647\n",
       "revenue_transaction    3647\n",
       "panier                 3647\n",
       "dtype: int64"
      ]
     },
     "execution_count": 45,
     "metadata": {},
     "output_type": "execute_result"
    }
   ],
   "source": [
    "details3PAS.count()"
   ]
  },
  {
   "cell_type": "code",
   "execution_count": 46,
   "metadata": {
    "collapsed": false
   },
   "outputs": [
    {
     "data": {
      "text/html": [
       "<div style=\"max-height:1000px;max-width:1500px;overflow:auto;\">\n",
       "<table border=\"1\" class=\"dataframe\">\n",
       "  <thead>\n",
       "    <tr style=\"text-align: right;\">\n",
       "      <th></th>\n",
       "      <th>key</th>\n",
       "      <th>nom_site</th>\n",
       "      <th>revenue_transaction</th>\n",
       "      <th>panier</th>\n",
       "    </tr>\n",
       "  </thead>\n",
       "  <tbody>\n",
       "    <tr>\n",
       "      <th>0</th>\n",
       "      <td>2016-03-10_1123_7485_1731</td>\n",
       "      <td>Part</td>\n",
       "      <td>37.50</td>\n",
       "      <td>PD</td>\n",
       "    </tr>\n",
       "    <tr>\n",
       "      <th>1</th>\n",
       "      <td>2016-03-10_1123_7485_1731</td>\n",
       "      <td>Pro</td>\n",
       "      <td>17.00</td>\n",
       "      <td>MTEL</td>\n",
       "    </tr>\n",
       "    <tr>\n",
       "      <th>2</th>\n",
       "      <td>2016-03-10_1123_7485_1731</td>\n",
       "      <td>Part</td>\n",
       "      <td>16.32</td>\n",
       "      <td>MTEL</td>\n",
       "    </tr>\n",
       "  </tbody>\n",
       "</table>\n",
       "</div>"
      ],
      "text/plain": [
       "                         key nom_site  revenue_transaction panier\n",
       "0  2016-03-10_1123_7485_1731     Part                37.50     PD\n",
       "1  2016-03-10_1123_7485_1731      Pro                17.00   MTEL\n",
       "2  2016-03-10_1123_7485_1731     Part                16.32   MTEL"
      ]
     },
     "execution_count": 46,
     "metadata": {},
     "output_type": "execute_result"
    }
   ],
   "source": [
    "dataSet3PAS= details3PAS.drop(['gamme_produit','nombre_produit','prix_produit','prix_ht_zanox'],1)\n",
    "dataSet3PAS.head(3)"
   ]
  },
  {
   "cell_type": "code",
   "execution_count": 53,
   "metadata": {
    "collapsed": false
   },
   "outputs": [
    {
     "data": {
      "text/html": [
       "<div style=\"max-height:1000px;max-width:1500px;overflow:auto;\">\n",
       "<table border=\"1\" class=\"dataframe\">\n",
       "  <thead>\n",
       "    <tr style=\"text-align: right;\">\n",
       "      <th></th>\n",
       "      <th>key</th>\n",
       "      <th>nom_site</th>\n",
       "      <th>revenue_transaction</th>\n",
       "      <th>panier</th>\n",
       "    </tr>\n",
       "  </thead>\n",
       "  <tbody>\n",
       "    <tr>\n",
       "      <th>0</th>\n",
       "      <td>2016-03-10_1123_7485_1731</td>\n",
       "      <td>Part</td>\n",
       "      <td>37.5</td>\n",
       "      <td>PD</td>\n",
       "    </tr>\n",
       "    <tr>\n",
       "      <th>4</th>\n",
       "      <td>2016-03-10_1123_7487_1735</td>\n",
       "      <td>Part</td>\n",
       "      <td>58.5</td>\n",
       "      <td>PD</td>\n",
       "    </tr>\n",
       "    <tr>\n",
       "      <th>7</th>\n",
       "      <td>2016-03-10_1123_7490_1731</td>\n",
       "      <td>Part</td>\n",
       "      <td>25.5</td>\n",
       "      <td>DN</td>\n",
       "    </tr>\n",
       "    <tr>\n",
       "      <th>9</th>\n",
       "      <td>2016-03-10_1123_7492_1735</td>\n",
       "      <td>Part</td>\n",
       "      <td>25.5</td>\n",
       "      <td>DN</td>\n",
       "    </tr>\n",
       "    <tr>\n",
       "      <th>13</th>\n",
       "      <td>2016-03-10_1123_7485_1731</td>\n",
       "      <td>Part</td>\n",
       "      <td>25.5</td>\n",
       "      <td>DN</td>\n",
       "    </tr>\n",
       "  </tbody>\n",
       "</table>\n",
       "</div>"
      ],
      "text/plain": [
       "                          key nom_site  revenue_transaction panier\n",
       "0   2016-03-10_1123_7485_1731     Part                 37.5     PD\n",
       "4   2016-03-10_1123_7487_1735     Part                 58.5     PD\n",
       "7   2016-03-10_1123_7490_1731     Part                 25.5     DN\n",
       "9   2016-03-10_1123_7492_1735     Part                 25.5     DN\n",
       "13  2016-03-10_1123_7485_1731     Part                 25.5     DN"
      ]
     },
     "execution_count": 53,
     "metadata": {},
     "output_type": "execute_result"
    }
   ],
   "source": [
    "dataSet3PAS = dataSet3PAS[dataSet3PAS.panier.isin(gamme_prod)]\n",
    "dataSet3PAS.head(5)"
   ]
  },
  {
   "cell_type": "code",
   "execution_count": 54,
   "metadata": {
    "collapsed": false
   },
   "outputs": [],
   "source": [
    "transactions = dataSet3PAS.groupby(['key']).count()\n",
    "revenue = dataSet3PAS.groupby(['key']).sum()\n",
    "ds = pd.DataFrame(transactions,revenue)"
   ]
  },
  {
   "cell_type": "code",
   "execution_count": 55,
   "metadata": {
    "collapsed": false
   },
   "outputs": [
    {
     "data": {
      "text/html": [
       "<div style=\"max-height:1000px;max-width:1500px;overflow:auto;\">\n",
       "<table border=\"1\" class=\"dataframe\">\n",
       "  <thead>\n",
       "    <tr style=\"text-align: right;\">\n",
       "      <th></th>\n",
       "      <th>key</th>\n",
       "      <th>revenue</th>\n",
       "      <th>conversions</th>\n",
       "    </tr>\n",
       "  </thead>\n",
       "  <tbody>\n",
       "    <tr>\n",
       "      <th>0</th>\n",
       "      <td>2016-03-10_1123_7485_1731</td>\n",
       "      <td>63.0</td>\n",
       "      <td>2</td>\n",
       "    </tr>\n",
       "    <tr>\n",
       "      <th>1</th>\n",
       "      <td>2016-03-10_1123_7487_1735</td>\n",
       "      <td>58.5</td>\n",
       "      <td>1</td>\n",
       "    </tr>\n",
       "    <tr>\n",
       "      <th>2</th>\n",
       "      <td>2016-03-10_1123_7490_1731</td>\n",
       "      <td>25.5</td>\n",
       "      <td>1</td>\n",
       "    </tr>\n",
       "    <tr>\n",
       "      <th>3</th>\n",
       "      <td>2016-03-10_1123_7492_1735</td>\n",
       "      <td>25.5</td>\n",
       "      <td>1</td>\n",
       "    </tr>\n",
       "    <tr>\n",
       "      <th>4</th>\n",
       "      <td>2016-03-11_1123_7484_1733</td>\n",
       "      <td>37.5</td>\n",
       "      <td>1</td>\n",
       "    </tr>\n",
       "  </tbody>\n",
       "</table>\n",
       "</div>"
      ],
      "text/plain": [
       "                         key  revenue  conversions\n",
       "0  2016-03-10_1123_7485_1731     63.0            2\n",
       "1  2016-03-10_1123_7487_1735     58.5            1\n",
       "2  2016-03-10_1123_7490_1731     25.5            1\n",
       "3  2016-03-10_1123_7492_1735     25.5            1\n",
       "4  2016-03-11_1123_7484_1733     37.5            1"
      ]
     },
     "execution_count": 55,
     "metadata": {},
     "output_type": "execute_result"
    }
   ],
   "source": [
    "transactions = pd.DataFrame(dataSet3PAS.groupby([\"key\"]).sum()[\"revenue_transaction\"])\n",
    "revenue = pd.DataFrame(dataSet3PAS.groupby([\"key\"]).count()[\"panier\"])\n",
    "ds = transactions.join(revenue).reset_index()\n",
    "#c = np.append('key', 'revenue', 'conversions',axis =0)\n",
    "ds.columns = ['key', 'revenue', 'conversions']\n",
    "ds.head(5)"
   ]
  },
  {
   "cell_type": "code",
   "execution_count": 56,
   "metadata": {
    "collapsed": false
   },
   "outputs": [
    {
     "data": {
      "text/html": [
       "<div style=\"max-height:1000px;max-width:1500px;overflow:auto;\">\n",
       "<table border=\"1\" class=\"dataframe\">\n",
       "  <thead>\n",
       "    <tr style=\"text-align: right;\">\n",
       "      <th></th>\n",
       "      <th>key</th>\n",
       "      <th>nom_site</th>\n",
       "      <th>revenue_transaction</th>\n",
       "      <th>panier</th>\n",
       "    </tr>\n",
       "  </thead>\n",
       "  <tbody>\n",
       "    <tr>\n",
       "      <th>0</th>\n",
       "      <td>2016-03-10_1123_7485_1731</td>\n",
       "      <td>Part</td>\n",
       "      <td>37.5</td>\n",
       "      <td>PD</td>\n",
       "    </tr>\n",
       "    <tr>\n",
       "      <th>13</th>\n",
       "      <td>2016-03-10_1123_7485_1731</td>\n",
       "      <td>Part</td>\n",
       "      <td>25.5</td>\n",
       "      <td>DN</td>\n",
       "    </tr>\n",
       "  </tbody>\n",
       "</table>\n",
       "</div>"
      ],
      "text/plain": [
       "                          key nom_site  revenue_transaction panier\n",
       "0   2016-03-10_1123_7485_1731     Part                 37.5     PD\n",
       "13  2016-03-10_1123_7485_1731     Part                 25.5     DN"
      ]
     },
     "execution_count": 56,
     "metadata": {},
     "output_type": "execute_result"
    }
   ],
   "source": [
    "dataSet3PAS[dataSet3PAS.key == '2016-03-10_1123_7485_1731']"
   ]
  },
  {
   "cell_type": "code",
   "execution_count": 57,
   "metadata": {
    "collapsed": false
   },
   "outputs": [
    {
     "data": {
      "text/html": [
       "<div style=\"max-height:1000px;max-width:1500px;overflow:auto;\">\n",
       "<table border=\"1\" class=\"dataframe\">\n",
       "  <thead>\n",
       "    <tr style=\"text-align: right;\">\n",
       "      <th></th>\n",
       "      <th>key</th>\n",
       "      <th>revenue</th>\n",
       "      <th>conversions</th>\n",
       "    </tr>\n",
       "  </thead>\n",
       "  <tbody>\n",
       "    <tr>\n",
       "      <th>0</th>\n",
       "      <td>2016-03-10_1123_7485_1731</td>\n",
       "      <td>63</td>\n",
       "      <td>2</td>\n",
       "    </tr>\n",
       "  </tbody>\n",
       "</table>\n",
       "</div>"
      ],
      "text/plain": [
       "                         key  revenue  conversions\n",
       "0  2016-03-10_1123_7485_1731       63            2"
      ]
     },
     "execution_count": 57,
     "metadata": {},
     "output_type": "execute_result"
    }
   ],
   "source": [
    "ds[ds.key == '2016-03-10_1123_7485_1731']"
   ]
  },
  {
   "cell_type": "code",
   "execution_count": null,
   "metadata": {
    "collapsed": true
   },
   "outputs": [],
   "source": []
  },
  {
   "cell_type": "code",
   "execution_count": null,
   "metadata": {
    "collapsed": true
   },
   "outputs": [],
   "source": []
  },
  {
   "cell_type": "code",
   "execution_count": null,
   "metadata": {
    "collapsed": true
   },
   "outputs": [],
   "source": []
  },
  {
   "cell_type": "code",
   "execution_count": 58,
   "metadata": {
    "collapsed": false
   },
   "outputs": [],
   "source": [
    "final_ds = pd.merge(adServerTable,ds, on='key')"
   ]
  },
  {
   "cell_type": "code",
   "execution_count": 59,
   "metadata": {
    "collapsed": false
   },
   "outputs": [
    {
     "data": {
      "text/html": [
       "<div style=\"max-height:1000px;max-width:1500px;overflow:auto;\">\n",
       "<table border=\"1\" class=\"dataframe\">\n",
       "  <thead>\n",
       "    <tr style=\"text-align: right;\">\n",
       "      <th></th>\n",
       "      <th>Date</th>\n",
       "      <th>Site/Offer ID</th>\n",
       "      <th>Site/Offer</th>\n",
       "      <th>Insertion ID</th>\n",
       "      <th>Insertion</th>\n",
       "      <th>Creative ID</th>\n",
       "      <th>Creative</th>\n",
       "      <th>Creative Sizes</th>\n",
       "      <th>Imp.</th>\n",
       "      <th>Clicks</th>\n",
       "      <th>...</th>\n",
       "      <th>PC conv. BNUM_Confirmation achat_Part</th>\n",
       "      <th>PI conv. BNUM_Confirmation achat_Pro</th>\n",
       "      <th>PI conv. BNUM_Confirmation achat_Part</th>\n",
       "      <th>Revenues (PC) BNUM_Confirmation achat_Pro</th>\n",
       "      <th>Revenues (PC) BNUM_Confirmation achat_Part</th>\n",
       "      <th>Revenues (PI) BNUM_Confirmation achat_Pro</th>\n",
       "      <th>Revenues (PI) BNUM_Confirmation achat_Part</th>\n",
       "      <th>key</th>\n",
       "      <th>revenue</th>\n",
       "      <th>conversions</th>\n",
       "    </tr>\n",
       "  </thead>\n",
       "  <tbody>\n",
       "    <tr>\n",
       "      <th>3</th>\n",
       "      <td>2016-03-10</td>\n",
       "      <td>1123</td>\n",
       "      <td>Quantcast</td>\n",
       "      <td>7485</td>\n",
       "      <td>Conquête pack déménagement Particuliers_300x250</td>\n",
       "      <td>1731</td>\n",
       "      <td>300x250_LaPoste_Demenagement</td>\n",
       "      <td>300x250</td>\n",
       "      <td>17539</td>\n",
       "      <td>2</td>\n",
       "      <td>...</td>\n",
       "      <td>1</td>\n",
       "      <td>1</td>\n",
       "      <td>5</td>\n",
       "      <td>-</td>\n",
       "      <td>37.5</td>\n",
       "      <td>17</td>\n",
       "      <td>67.05</td>\n",
       "      <td>2016-03-10_1123_7485_1731</td>\n",
       "      <td>63</td>\n",
       "      <td>2</td>\n",
       "    </tr>\n",
       "  </tbody>\n",
       "</table>\n",
       "<p>1 rows × 21 columns</p>\n",
       "</div>"
      ],
      "text/plain": [
       "         Date  Site/Offer ID Site/Offer  Insertion ID  \\\n",
       "3  2016-03-10           1123  Quantcast          7485   \n",
       "\n",
       "                                         Insertion  Creative ID  \\\n",
       "3  Conquête pack déménagement Particuliers_300x250         1731   \n",
       "\n",
       "                       Creative Creative Sizes   Imp. Clicks     ...       \\\n",
       "3  300x250_LaPoste_Demenagement        300x250  17539      2     ...        \n",
       "\n",
       "  PC conv. BNUM_Confirmation achat_Part PI conv. BNUM_Confirmation achat_Pro  \\\n",
       "3                                     1                                    1   \n",
       "\n",
       "  PI conv. BNUM_Confirmation achat_Part  \\\n",
       "3                                     5   \n",
       "\n",
       "  Revenues (PC) BNUM_Confirmation achat_Pro  \\\n",
       "3                                         -   \n",
       "\n",
       "  Revenues (PC) BNUM_Confirmation achat_Part  \\\n",
       "3                                       37.5   \n",
       "\n",
       "  Revenues (PI) BNUM_Confirmation achat_Pro  \\\n",
       "3                                        17   \n",
       "\n",
       "  Revenues (PI) BNUM_Confirmation achat_Part                        key  \\\n",
       "3                                      67.05  2016-03-10_1123_7485_1731   \n",
       "\n",
       "  revenue  conversions  \n",
       "3      63            2  \n",
       "\n",
       "[1 rows x 21 columns]"
      ]
     },
     "execution_count": 59,
     "metadata": {},
     "output_type": "execute_result"
    }
   ],
   "source": [
    "final_ds[final_ds.key == '2016-03-10_1123_7485_1731'].head(5)"
   ]
  },
  {
   "cell_type": "code",
   "execution_count": null,
   "metadata": {
    "collapsed": false
   },
   "outputs": [],
   "source": []
  },
  {
   "cell_type": "code",
   "execution_count": null,
   "metadata": {
    "collapsed": true
   },
   "outputs": [],
   "source": []
  },
  {
   "cell_type": "code",
   "execution_count": null,
   "metadata": {
    "collapsed": true
   },
   "outputs": [],
   "source": []
  },
  {
   "cell_type": "code",
   "execution_count": 60,
   "metadata": {
    "collapsed": false
   },
   "outputs": [],
   "source": [
    "final_ds = final_ds[['Date', 'Site/Offer ID','Site/Offer', 'Insertion ID', 'Insertion', 'Creative ID', 'Creative', 'Creative Sizes','Imp.', 'Clicks','conversions', 'revenue', 'key' ]]"
   ]
  },
  {
   "cell_type": "code",
   "execution_count": 61,
   "metadata": {
    "collapsed": false
   },
   "outputs": [
    {
     "data": {
      "text/html": [
       "<div style=\"max-height:1000px;max-width:1500px;overflow:auto;\">\n",
       "<table border=\"1\" class=\"dataframe\">\n",
       "  <thead>\n",
       "    <tr style=\"text-align: right;\">\n",
       "      <th></th>\n",
       "      <th>Date</th>\n",
       "      <th>Site/Offer ID</th>\n",
       "      <th>Site/Offer</th>\n",
       "      <th>Insertion ID</th>\n",
       "      <th>Insertion</th>\n",
       "      <th>Creative ID</th>\n",
       "      <th>Creative</th>\n",
       "      <th>Creative Sizes</th>\n",
       "      <th>Imp.</th>\n",
       "      <th>Clicks</th>\n",
       "      <th>conversions</th>\n",
       "      <th>revenue</th>\n",
       "      <th>key</th>\n",
       "    </tr>\n",
       "  </thead>\n",
       "  <tbody>\n",
       "    <tr>\n",
       "      <th>0</th>\n",
       "      <td>2016-03-10</td>\n",
       "      <td>1123</td>\n",
       "      <td>Quantcast</td>\n",
       "      <td>7492</td>\n",
       "      <td>Retargeting pack déménagement Particuliers_728x90</td>\n",
       "      <td>1735</td>\n",
       "      <td>728x90_LaPoste_Demenagement</td>\n",
       "      <td>728x90</td>\n",
       "      <td>30698</td>\n",
       "      <td>7</td>\n",
       "      <td>1</td>\n",
       "      <td>25.5</td>\n",
       "      <td>2016-03-10_1123_7492_1735</td>\n",
       "    </tr>\n",
       "    <tr>\n",
       "      <th>1</th>\n",
       "      <td>2016-03-10</td>\n",
       "      <td>1123</td>\n",
       "      <td>Quantcast</td>\n",
       "      <td>7487</td>\n",
       "      <td>Conquête pack déménagement Particuliers_728x90</td>\n",
       "      <td>1735</td>\n",
       "      <td>728x90_LaPoste_Demenagement</td>\n",
       "      <td>728x90</td>\n",
       "      <td>22671</td>\n",
       "      <td>3</td>\n",
       "      <td>1</td>\n",
       "      <td>58.5</td>\n",
       "      <td>2016-03-10_1123_7487_1735</td>\n",
       "    </tr>\n",
       "    <tr>\n",
       "      <th>2</th>\n",
       "      <td>2016-03-10</td>\n",
       "      <td>1123</td>\n",
       "      <td>Quantcast</td>\n",
       "      <td>7490</td>\n",
       "      <td>Retargeting pack déménagement Particuliers_300...</td>\n",
       "      <td>1731</td>\n",
       "      <td>300x250_LaPoste_Demenagement</td>\n",
       "      <td>300x250</td>\n",
       "      <td>8422</td>\n",
       "      <td>3</td>\n",
       "      <td>1</td>\n",
       "      <td>25.5</td>\n",
       "      <td>2016-03-10_1123_7490_1731</td>\n",
       "    </tr>\n",
       "    <tr>\n",
       "      <th>3</th>\n",
       "      <td>2016-03-10</td>\n",
       "      <td>1123</td>\n",
       "      <td>Quantcast</td>\n",
       "      <td>7485</td>\n",
       "      <td>Conquête pack déménagement Particuliers_300x250</td>\n",
       "      <td>1731</td>\n",
       "      <td>300x250_LaPoste_Demenagement</td>\n",
       "      <td>300x250</td>\n",
       "      <td>17539</td>\n",
       "      <td>2</td>\n",
       "      <td>2</td>\n",
       "      <td>63.0</td>\n",
       "      <td>2016-03-10_1123_7485_1731</td>\n",
       "    </tr>\n",
       "  </tbody>\n",
       "</table>\n",
       "</div>"
      ],
      "text/plain": [
       "         Date  Site/Offer ID Site/Offer  Insertion ID  \\\n",
       "0  2016-03-10           1123  Quantcast          7492   \n",
       "1  2016-03-10           1123  Quantcast          7487   \n",
       "2  2016-03-10           1123  Quantcast          7490   \n",
       "3  2016-03-10           1123  Quantcast          7485   \n",
       "\n",
       "                                           Insertion  Creative ID  \\\n",
       "0  Retargeting pack déménagement Particuliers_728x90         1735   \n",
       "1     Conquête pack déménagement Particuliers_728x90         1735   \n",
       "2  Retargeting pack déménagement Particuliers_300...         1731   \n",
       "3    Conquête pack déménagement Particuliers_300x250         1731   \n",
       "\n",
       "                       Creative Creative Sizes   Imp. Clicks  conversions  \\\n",
       "0   728x90_LaPoste_Demenagement         728x90  30698      7            1   \n",
       "1   728x90_LaPoste_Demenagement         728x90  22671      3            1   \n",
       "2  300x250_LaPoste_Demenagement        300x250   8422      3            1   \n",
       "3  300x250_LaPoste_Demenagement        300x250  17539      2            2   \n",
       "\n",
       "   revenue                        key  \n",
       "0     25.5  2016-03-10_1123_7492_1735  \n",
       "1     58.5  2016-03-10_1123_7487_1735  \n",
       "2     25.5  2016-03-10_1123_7490_1731  \n",
       "3     63.0  2016-03-10_1123_7485_1731  "
      ]
     },
     "execution_count": 61,
     "metadata": {},
     "output_type": "execute_result"
    }
   ],
   "source": [
    "final_ds.head(4)"
   ]
  },
  {
   "cell_type": "code",
   "execution_count": null,
   "metadata": {
    "collapsed": false
   },
   "outputs": [],
   "source": []
  },
  {
   "cell_type": "code",
   "execution_count": 62,
   "metadata": {
    "collapsed": false
   },
   "outputs": [
    {
     "name": "stdout",
     "output_type": "stream",
     "text": [
      "Done\n"
     ]
    }
   ],
   "source": [
    "final_ds.to_csv('3pas_report_final.csv', index=False,encoding='utf-8')\n",
    "print('Done')"
   ]
  },
  {
   "cell_type": "code",
   "execution_count": null,
   "metadata": {
    "collapsed": false
   },
   "outputs": [],
   "source": []
  },
  {
   "cell_type": "code",
   "execution_count": null,
   "metadata": {
    "collapsed": false
   },
   "outputs": [],
   "source": []
  },
  {
   "cell_type": "code",
   "execution_count": null,
   "metadata": {
    "collapsed": false
   },
   "outputs": [],
   "source": []
  },
  {
   "cell_type": "code",
   "execution_count": null,
   "metadata": {
    "collapsed": false
   },
   "outputs": [],
   "source": []
  },
  {
   "cell_type": "code",
   "execution_count": null,
   "metadata": {
    "collapsed": false
   },
   "outputs": [],
   "source": []
  },
  {
   "cell_type": "code",
   "execution_count": null,
   "metadata": {
    "collapsed": false
   },
   "outputs": [],
   "source": []
  },
  {
   "cell_type": "code",
   "execution_count": null,
   "metadata": {
    "collapsed": false
   },
   "outputs": [],
   "source": []
  },
  {
   "cell_type": "code",
   "execution_count": null,
   "metadata": {
    "collapsed": false
   },
   "outputs": [],
   "source": []
  },
  {
   "cell_type": "code",
   "execution_count": null,
   "metadata": {
    "collapsed": true
   },
   "outputs": [],
   "source": []
  }
 ],
 "metadata": {
  "kernelspec": {
   "display_name": "Python 2",
   "language": "python",
   "name": "python2"
  },
  "language_info": {
   "codemirror_mode": {
    "name": "ipython",
    "version": 2
   },
   "file_extension": ".py",
   "mimetype": "text/x-python",
   "name": "python",
   "nbconvert_exporter": "python",
   "pygments_lexer": "ipython2",
   "version": "2.7.9"
  }
 },
 "nbformat": 4,
 "nbformat_minor": 0
}
