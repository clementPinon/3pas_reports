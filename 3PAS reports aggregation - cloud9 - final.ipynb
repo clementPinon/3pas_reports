{
 "cells": [
  {
   "cell_type": "markdown",
   "metadata": {},
   "source": [
    "#Prepare environment"
   ]
  },
  {
   "cell_type": "code",
   "execution_count": 2,
   "metadata": {
    "collapsed": true
   },
   "outputs": [],
   "source": [
    "%matplotlib inline"
   ]
  },
  {
   "cell_type": "code",
   "execution_count": 3,
   "metadata": {
    "collapsed": true
   },
   "outputs": [],
   "source": [
    "import numpy as np\n",
    "import pandas as pd"
   ]
  },
  {
   "cell_type": "markdown",
   "metadata": {},
   "source": [
    "#Upload datasets"
   ]
  },
  {
   "cell_type": "markdown",
   "metadata": {},
   "source": [
    "> Define products to be taken into account for credited conversions"
   ]
  },
  {
   "cell_type": "markdown",
   "metadata": {},
   "source": [
    ">/!\\ Which products do you want to take into account????"
   ]
  },
  {
   "cell_type": "code",
   "execution_count": 9,
   "metadata": {
    "collapsed": true
   },
   "outputs": [],
   "source": [
    "#update gamme produits that need to be taken into account for conversions credit\n",
    "#http://stackoverflow.com/questions/12096252/use-a-list-of-values-to-select-rows-from-a-pandas-dataframe\n",
    "gamme_prod = ['DN', 'DI', 'PD', 'TI', 'TN']\n",
    "\n",
    "# CPM \n",
    "cpm = 6.0"
   ]
  },
  {
   "cell_type": "markdown",
   "metadata": {},
   "source": [
    "> Name of the files to be uploaded\n",
    "\n",
    "> These should be hosted in the root folder"
   ]
  },
  {
   "cell_type": "code",
   "execution_count": 13,
   "metadata": {
    "collapsed": false
   },
   "outputs": [],
   "source": [
    "#name you file as the one you uploaded in cloud 9 - file_quanti \n",
    "adServerFile = 'Report_Quantcast_mobilite_Standard_v1_M88Z5cUHryFJpRP_AA1S.xlsx'\n",
    "\n",
    "#name your 3PAS file as the one you uploaded in cloud 9 - file_quali \n",
    "detailedFile = 'Report_Quantcast_mobilite_conversion_view_PNJjl0461vpIzpMgHrA7.csv'"
   ]
  },
  {
   "cell_type": "markdown",
   "metadata": {},
   "source": [
    "#Defining the function that'll be used to generate the final CSV report"
   ]
  },
  {
   "cell_type": "code",
   "execution_count": 11,
   "metadata": {
    "collapsed": false
   },
   "outputs": [],
   "source": [
    "def LP(gamme_prod, adServerFile, detailedFile, QC_cpm):    \n",
    "    \n",
    "    #first file to be uploaded details of products part of each conversion\n",
    "    detailedConversions = pd.read_csv(detailedFile, dtype=object)\n",
    "\n",
    "    #We need to update the date format and strip hours\n",
    "    #http://stackoverflow.com/questions/26387986/strip-time-from-an-object-date-in-pandas\n",
    "    detailedConversions['conversion_date'] = pd.to_datetime(detailedConversions['Conversion date-hour'])\n",
    "    detailedConversions['conversion_date'] = detailedConversions['conversion_date'].apply(lambda x:x.date().strftime('%Y-%m-%d'))\n",
    "    #then upload the second file. this is the regular 3PAS files with every conversions to which we contributed. \n",
    "    xls_file = pd.ExcelFile(adServerFile)\n",
    "    adServerTable = xls_file.parse('DataView')\n",
    "\n",
    "    #create functio that will be used to create matching key by concatenating several columns\n",
    "    #http://stackoverflow.com/questions/23444858/concatenate-column-values-in-pandas-dataframe-with-nan-values\n",
    "    def concat(*args):\n",
    "        strs = [str(arg) for arg in args if not pd.isnull(arg)]\n",
    "        return '_'.join(strs) if strs else np.nan\n",
    "\n",
    "    np_concat = np.vectorize(concat)\n",
    "\n",
    "    #We need to define the key to join both file. \n",
    "    #first 3PAS report Key\n",
    "    adServerTable['key'] = np_concat(adServerTable['Date'], adServerTable['Site/Offer ID'], adServerTable['Insertion ID'], adServerTable['Creative ID'])\n",
    "    #QA the created key\n",
    "\n",
    "    detailedConversions['key'] = np_concat(detailedConversions['conversion_date'], detailedConversions['Site-Offer ID'], detailedConversions['Insertion ID'], detailedConversions['Creative ID'])\n",
    "\n",
    "    # function aimed at cleaning revenue figures\n",
    "\n",
    "    def cleanrev(col):\n",
    "        if col == '-':\n",
    "            return 0.0\n",
    "        else:\n",
    "            return float(col)\n",
    "\n",
    "    # function aimed at cleaning products part of the orders\n",
    "\n",
    "    def cleanGamme(col,gamme_prod):\n",
    "        items = list(set(col.split(\"|\")) )\n",
    "        if len(items) == 1:\n",
    "            return items[0]\n",
    "        elif re.search('$|^'.join(gamme_prod),col):\n",
    "            return \"Mixte\"\n",
    "        else:\n",
    "            return \"Mixte_non_comptabilise\"\n",
    "\n",
    "    # function aimed at associating products and unit price\n",
    "    # /!\\ We need to verify every product are added and quantity matches\n",
    "\n",
    "    def cleanProduitMix(df):\n",
    "        items = df[0].split(\"|\")\n",
    "        prices = df[1].split(\"|\")\n",
    "        quantity = df[2].split(\"|\")\n",
    "        if len(items) == 1:\n",
    "            return items[0] + '-%s' %float(prices[0]) #*float(quantity[0]))\n",
    "        else:\n",
    "    #        mix = '%s-' %len(items)\n",
    "            l = len(items)\n",
    "            mix = ''\n",
    "            for i in range(0,len(items)-2):\n",
    "                mix = mix + items[i] + '-%s|' %float(prices[i]) #*float(quantity[i]))\n",
    "            return mix + items[l-1] + '-%s' %float(prices[l-1]) #*float(quantity[l-1]))\n",
    "\n",
    "    #define the same function without tacking into account the quantity section    \n",
    "    def cleanProduitMixWOQuantities(df):\n",
    "        items = df[0].split(\"|\")\n",
    "        prices = df[1].split(\"|\")\n",
    "        quantity = df[2].split(\"|\")\n",
    "        if len(items) == 1:\n",
    "            return items[0] + '-%s' %(float(prices[0]))\n",
    "        else:\n",
    "            l = len(items)\n",
    "            mix = ''\n",
    "            for i in range(0,len(items)-2):\n",
    "                mix = mix + items[i] + '-%s|' %(float(prices[i]))\n",
    "            return mix + items[l-1] + '-%s' %(float(prices[l-1]))\n",
    "\n",
    "    #function aimed at concatenating several columns separated by '-'\n",
    "    def concatenate(df):\n",
    "        if len(df)>0:\n",
    "            c = ''\n",
    "            l = len(df)-1\n",
    "            for i in range (0, l-1):\n",
    "                c = c + df[i] + '-'\n",
    "            return c + df[l]\n",
    "        else:\n",
    "            return ''\n",
    "\n",
    "    #function to be used when filtering out products not in required\n",
    "    def filter_products(x):\n",
    "        if re.search('|'.join(gamme_prod),x):\n",
    "            return \"true\"\n",
    "        else:\n",
    "            return \"false\"\n",
    "\n",
    "    details3PAS = detailedConversions[['key','nom_site','gamme_produit', 'prix_produit','nombre_produit' ,'prix_ht_zanox']]\n",
    "    details3PAS = pd.DataFrame(details3PAS).dropna()\n",
    "\n",
    "    details3PAS['revenue_transaction'] = details3PAS.prix_ht_zanox.apply(lambda x: cleanrev(x))\n",
    "    details3PAS['panier'] = details3PAS.gamme_produit.apply(lambda x: cleanGamme(x, gamme_prod))\n",
    "    \n",
    "    dataSet3PAS= details3PAS.drop(['gamme_produit','nombre_produit','prix_produit','prix_ht_zanox'],1)\n",
    "    dataSet3PAS['selected'] = dataSet3PAS['panier'].apply(lambda x: filter_products(x))\n",
    "    dataSet3PAS = dataSet3PAS[dataSet3PAS['selected'] == 'true']\n",
    "    \n",
    "    transactions = dataSet3PAS.groupby(['key', 'nom_site']).agg({\n",
    "                                         'panier': 'count',\n",
    "                                         'revenue_transaction': sum\n",
    "                                                   }).reset_index()    \n",
    "    \n",
    "    transactions.columns = ['key', 'nom_site', 'relevant_conversions', 'total_revenue']\n",
    "\n",
    "    details3PAS['order'] = details3PAS[['gamme_produit','prix_produit','nombre_produit']].apply(cleanProduitMixWOQuantities, axis = 1)\n",
    "    dataSet3PAS= details3PAS.drop(['gamme_produit','nombre_produit','prix_produit','prix_ht_zanox'],1)\n",
    "    dataSet3PAS = dataSet3PAS[dataSet3PAS.panier.isin(gamme_prod)]\n",
    "\n",
    "    #create a column with only porduct and unit prices\n",
    "    s = details3PAS['order'].str.split(\"|\", expand=True).stack() #.reset_index()\n",
    "    i = s.index.get_level_values(0)\n",
    "    df = details3PAS.loc[i].copy()\n",
    "    df[\"order\"] = s.values\n",
    "    #df.head(20)\n",
    "    \n",
    "    #make two columns out of this. might be tricky if we want to keep the original DF \n",
    "    #df_bis = pd.DataFrame(df['order'].str.split(\"-\", 1).tolist(), columns = ['product', 'price'], index = df.index) #.stack() #.reset_index()\n",
    "    \n",
    "    df_bis = df \n",
    "    #if cleanProduitMix function used\n",
    "    #df_bis[\"product\"], df_bis[\"price\"], df_bis[\"quantity\"] = zip(*df_bis[\"order\"].str.split('-',2))\n",
    "    #if cleanProduitMixWOQuantities function used\n",
    "    df_bis[\"product\"], df_bis[\"price\"] = zip(*df_bis[\"order\"].str.split('-',1))\n",
    "    \n",
    "    \n",
    "    df_bis[\"product\"] = df_bis[\"product\"].apply(lambda x: str(x))\n",
    "    df_bis[\"price\"] = df_bis[\"price\"].apply(lambda x: float(x))\n",
    "    \n",
    "    #uncomment if quantity is being taken into account\n",
    "    #df_bis[\"quantity\"] = df_bis[\"quantity\"].apply(lambda x: float(x))\n",
    "\n",
    "    #compute revenue for each product sold\n",
    "    #uncomment the relevant line whether you take into account the quantity\n",
    "    #df_bis['revenue_product'] = df_bis['price'] * df_bis['quantity']\n",
    "    df_bis['revenue_product'] = df_bis['price'] * 1\n",
    "    df_bis = df_bis[['key', 'nom_site', 'product', 'revenue_product']]\n",
    "\n",
    "    #keep only products concerned by our advertisign campaign\n",
    "    df_final = df_bis\n",
    "    #using our function defined above\n",
    "    df_final[\"product_bis\"] = df_final[\"product\"].apply(lambda x: filter_products(x))\n",
    "    \n",
    "    #filtering out false products (products not concerned by the campaign)\n",
    "    df_final = df_final[df_final['product_bis'] == \"true\"]\n",
    "\n",
    "    \n",
    "    df_final_bis = df_final.groupby(['key', 'nom_site']).agg({\n",
    "                                         'revenue_product':sum\n",
    "                                                   }).reset_index()   \n",
    "\n",
    "    df_final_cleaned = pd.merge(df_final_bis,transactions, how= 'inner', on = ['key', 'nom_site'] ,left_index=False,right_index=False)\n",
    "\n",
    "####################################################################################################################################\n",
    "####################################################################################################################################\n",
    "    #transactions = dataSet3PAS.groupby(['key']).count()\n",
    "    #revenue = dataSet3PAS.groupby(['key']).sum()\n",
    "    #ds = pd.DataFrame(transactions,revenue)\n",
    "    #transactions = pd.DataFrame(dataSet3PAS.groupby([\"key\"]).sum()[\"revenue_transaction\"])\n",
    "    #revenue = pd.DataFrame(dataSet3PAS.groupby([\"key\"]).count()[\"panier\"])\n",
    "    #ds = transactions.join(revenue).reset_index()\n",
    "    #c = np.append('key', 'revenue', 'conversions',axis =0)\n",
    "    #ds.columns = ['key', 'revenue', 'conversions']\n",
    "\n",
    "####################################################################################################################################\n",
    "####################################################################################################################################\n",
    "\n",
    "    final_ds = pd.merge(adServerTable,df_final_cleaned, on='key')\n",
    "\n",
    "    final_ds = final_ds[['Date', 'Site/Offer ID','Site/Offer', 'Insertion ID', 'Insertion', 'Creative ID', 'Creative', 'Creative Sizes','Imp.', 'Clicks','relevant_conversions', 'revenue_product','total_revenue', 'key' ]]\n",
    "\n",
    "    final_ds['cost'] = QC_cpm * final_ds['Imp.'] / 1000\n",
    "    \n",
    "    final_ds['cpa'] = final_ds['cost'] / final_ds['relevant_conversions']\n",
    "    final_ds['roi'] = final_ds['revenue_product'] / final_ds['cost']\n",
    "    \n",
    "    final_ds.to_csv('3pas_report_final.csv', index=False,encoding='utf-8')\n",
    "    print('Done')\n"
   ]
  },
  {
   "cell_type": "markdown",
   "metadata": {},
   "source": [
    "#finally run the function so that report is generated in the root folder"
   ]
  },
  {
   "cell_type": "code",
   "execution_count": 12,
   "metadata": {
    "collapsed": false
   },
   "outputs": [
    {
     "name": "stdout",
     "output_type": "stream",
     "text": [
      "Done\n"
     ]
    }
   ],
   "source": [
    "LP(gamme_prod, adServerFile, detailedFile, cpm)"
   ]
  }
 ],
 "metadata": {
  "kernelspec": {
   "display_name": "Python 2",
   "language": "python",
   "name": "python2"
  },
  "language_info": {
   "codemirror_mode": {
    "name": "ipython",
    "version": 2
   },
   "file_extension": ".py",
   "mimetype": "text/x-python",
   "name": "python",
   "nbconvert_exporter": "python",
   "pygments_lexer": "ipython2",
   "version": "2.7.9"
  }
 },
 "nbformat": 4,
 "nbformat_minor": 0
}
