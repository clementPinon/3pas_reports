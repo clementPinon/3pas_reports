{
 "cells": [
  {
   "cell_type": "markdown",
   "metadata": {},
   "source": [
    "#Prepare environment"
   ]
  },
  {
   "cell_type": "code",
   "execution_count": 1,
   "metadata": {
    "collapsed": true
   },
   "outputs": [],
   "source": [
    "%matplotlib inline"
   ]
  },
  {
   "cell_type": "code",
   "execution_count": 7,
   "metadata": {
    "collapsed": true
   },
   "outputs": [],
   "source": [
    "import numpy as np\n",
    "import pandas as pd\n",
    "import re"
   ]
  },
  {
   "cell_type": "markdown",
   "metadata": {},
   "source": [
    "#Upload datasets"
   ]
  },
  {
   "cell_type": "markdown",
   "metadata": {},
   "source": [
    "> Define products to be taken into account for credited conversions"
   ]
  },
  {
   "cell_type": "markdown",
   "metadata": {},
   "source": [
    ">/!\\ Which products do you want to take into account????"
   ]
  },
  {
   "cell_type": "code",
   "execution_count": 8,
   "metadata": {
    "collapsed": true
   },
   "outputs": [],
   "source": [
    "#update gamme produits that need to be taken into account for conversions credit\n",
    "#http://stackoverflow.com/questions/12096252/use-a-list-of-values-to-select-rows-from-a-pandas-dataframe\n",
    "gamme_prod = ['DN', 'DI', 'PD', 'TI', 'TN', 'Mixte']"
   ]
  },
  {
   "cell_type": "markdown",
   "metadata": {},
   "source": [
    "> Name of the files to be uploaded\n",
    "\n",
    "> These should be hosted in the root folder"
   ]
  },
  {
   "cell_type": "code",
   "execution_count": 9,
   "metadata": {
    "collapsed": false
   },
   "outputs": [],
   "source": [
    "#name you file as the one you uploaded in cloud 9 - file_quanti \n",
    "adServerFile = 'Report_Quantcast_mobilite_Standard_v1_M88Z5cUHryFJpRP_AA1S.xlsx'\n",
    "\n",
    "#name your 3PAS file as the one you uploaded in cloud 9 - file_quali \n",
    "detailedFile = 'Report_Quantcast_mobilite_conversion_view_PNJjl0461vpIzpMgHrA7.csv'"
   ]
  },
  {
   "cell_type": "markdown",
   "metadata": {},
   "source": [
    "#Defining the function that'll be used to generate the final CSV report"
   ]
  },
  {
   "cell_type": "code",
   "execution_count": 10,
   "metadata": {
    "collapsed": false
   },
   "outputs": [],
   "source": [
    "def LP(gamme_prod, adServerFile, detailedFile):    \n",
    "    \n",
    "    #first file to be uploaded details of products part of each conversion\n",
    "    detailedConversions = pd.read_csv(detailedFile, dtype=object)\n",
    "\n",
    "    #We need to update the date format and strip hours\n",
    "    #http://stackoverflow.com/questions/26387986/strip-time-from-an-object-date-in-pandas\n",
    "    detailedConversions['conversion_date'] = pd.to_datetime(detailedConversions['Conversion date-hour'])\n",
    "    detailedConversions['conversion_date'] = detailedConversions['conversion_date'].apply(lambda x:x.date().strftime('%Y-%m-%d'))\n",
    "    #then upload the second file. this is the regular 3PAS files with every conversions to which we contributed. \n",
    "    xls_file = pd.ExcelFile(adServerFile)\n",
    "    adServerTable = xls_file.parse('DataView')\n",
    "\n",
    "    #create functio that will be used to create matching key by concatenating several columns\n",
    "    #http://stackoverflow.com/questions/23444858/concatenate-column-values-in-pandas-dataframe-with-nan-values\n",
    "    def concat(*args):\n",
    "        strs = [str(arg) for arg in args if not pd.isnull(arg)]\n",
    "        return '_'.join(strs) if strs else np.nan\n",
    "\n",
    "    np_concat = np.vectorize(concat)\n",
    "\n",
    "    #We need to define the key to join both file. \n",
    "    #first 3PAS report Key\n",
    "    adServerTable['key'] = np_concat(adServerTable['Date'], adServerTable['Site/Offer ID'], adServerTable['Insertion ID'], adServerTable['Creative ID'])\n",
    "    #QA the created key\n",
    "\n",
    "    detailedConversions['key'] = np_concat(detailedConversions['conversion_date'], detailedConversions['Site-Offer ID'], detailedConversions['Insertion ID'], detailedConversions['Creative ID'])\n",
    "\n",
    "    # function aimed at cleaning revenue figures\n",
    "\n",
    "    def cleanrev(col):\n",
    "        if col == '-':\n",
    "            return 0.0\n",
    "        else:\n",
    "            return float(col)\n",
    "\n",
    "    # function aimed at cleaning products part of the orders\n",
    "\n",
    "    def cleanGamme(col,gamme_prod):\n",
    "        items = list(set(col.split(\"|\")) )\n",
    "        if len(items) == 1:\n",
    "            return items[0]\n",
    "        elif re.search('|'.join(gamme_prod),col):\n",
    "            return \"Mixte\"\n",
    "        else:\n",
    "            return \"Mixte_non_comptabilise\"\n",
    "\n",
    "    # function aimed at associating products and unit price\n",
    "    # /!\\ We need to verify every product are added and quantity matches\n",
    "\n",
    "    def cleanProduitMix(df):\n",
    "        items = df[0].split(\"|\")\n",
    "        prices = df[1].split(\"|\")\n",
    "        quantity = df[2].split(\"|\")\n",
    "        if len(items) == 1:\n",
    "            return items[0] + '-%s' %float(prices[0]) #*float(quantity[0]))\n",
    "        else:\n",
    "    #        mix = '%s-' %len(items)\n",
    "            l = len(items)\n",
    "            mix = ''\n",
    "            for i in range(0,len(items)-2):\n",
    "                mix = mix + items[i] + '-%s|' %float(prices[i]) #*float(quantity[i]))\n",
    "            return mix + items[l-1] + '-%s' %float(prices[l-1]) #*float(quantity[l-1]))\n",
    "\n",
    "    #function aimed at concatenating several columns separated by '-'\n",
    "    def concatenate(df):\n",
    "        if len(df)>0:\n",
    "            c = ''\n",
    "            l = len(df)-1\n",
    "            for i in range (0, l-1):\n",
    "                c = c + df[i] + '-'\n",
    "            return c + df[l]\n",
    "        else:\n",
    "            return ''\n",
    "\n",
    "    details3PAS = detailedConversions[['key','nom_site','gamme_produit', 'prix_produit','nombre_produit' ,'prix_ht_zanox']]\n",
    "    details3PAS = pd.DataFrame(details3PAS).dropna()\n",
    "\n",
    "    details3PAS['revenue_transaction'] = details3PAS.prix_ht_zanox.apply(lambda x: cleanrev(x))\n",
    "    details3PAS['panier'] = details3PAS.gamme_produit.apply(lambda x: cleanGamme(x, gamme_prod))\n",
    "\n",
    "    dataSet3PAS= details3PAS.drop(['gamme_produit','nombre_produit','prix_produit','prix_ht_zanox'],1)\n",
    "    dataSet3PAS = dataSet3PAS[dataSet3PAS.panier.isin(gamme_prod)]\n",
    "\n",
    "    transactions = dataSet3PAS.groupby(['key']).count()\n",
    "    revenue = dataSet3PAS.groupby(['key']).sum()\n",
    "    ds = pd.DataFrame(transactions,revenue)\n",
    "    transactions = pd.DataFrame(dataSet3PAS.groupby([\"key\"]).sum()[\"revenue_transaction\"])\n",
    "    revenue = pd.DataFrame(dataSet3PAS.groupby([\"key\"]).count()[\"panier\"])\n",
    "    ds = transactions.join(revenue).reset_index()\n",
    "    #c = np.append('key', 'revenue', 'conversions',axis =0)\n",
    "    ds.columns = ['key', 'revenue', 'conversions']\n",
    "\n",
    "    final_ds = pd.merge(adServerTable,ds, on='key')\n",
    "\n",
    "    final_ds = final_ds[['Date','Site/Offer ID','Site/Offer', 'Insertion ID', 'Insertion', 'Creative ID', 'Creative', 'Creative Sizes','Imp.', 'Clicks','conversions', 'revenue', 'key' ]]\n",
    "\n",
    "    final_ds.to_csv('3pas_report_final.csv', index=False,encoding='utf-8')\n",
    "    print('Done')"
   ]
  },
  {
   "cell_type": "markdown",
   "metadata": {},
   "source": [
    "#finally run the function so that report is generated in the root folder"
   ]
  },
  {
   "cell_type": "code",
   "execution_count": 11,
   "metadata": {
    "collapsed": false
   },
   "outputs": [
    {
     "name": "stdout",
     "output_type": "stream",
     "text": [
      "Done\n"
     ]
    }
   ],
   "source": [
    "LP(gamme_prod, adServerFile, detailedFile)"
   ]
  },
  {
   "cell_type": "code",
   "execution_count": null,
   "metadata": {
    "collapsed": true
   },
   "outputs": [],
   "source": []
  }
 ],
 "metadata": {
  "kernelspec": {
   "display_name": "Python 2",
   "language": "python",
   "name": "python2"
  },
  "language_info": {
   "codemirror_mode": {
    "name": "ipython",
    "version": 2
   },
   "file_extension": ".py",
   "mimetype": "text/x-python",
   "name": "python",
   "nbconvert_exporter": "python",
   "pygments_lexer": "ipython2",
   "version": "2.7.9"
  }
 },
 "nbformat": 4,
 "nbformat_minor": 0
}
