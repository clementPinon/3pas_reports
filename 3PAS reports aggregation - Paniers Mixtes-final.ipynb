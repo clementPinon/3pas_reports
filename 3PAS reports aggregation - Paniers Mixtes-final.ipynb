{
 "cells": [
  {
   "cell_type": "markdown",
   "metadata": {},
   "source": [
    "#Prepare environment"
   ]
  },
  {
   "cell_type": "code",
   "execution_count": 1,
   "metadata": {
    "collapsed": true
   },
   "outputs": [],
   "source": [
    "%matplotlib inline"
   ]
  },
  {
   "cell_type": "code",
   "execution_count": 2,
   "metadata": {
    "collapsed": true
   },
   "outputs": [],
   "source": [
    "#import libraries\n",
    "import numpy as np\n",
    "import pandas as pd\n",
    "import matplotlib.pyplot as plt\n",
    "import seaborn as sns #pour faire des graph dans la bonne couleur etc.. par default\n",
    "import glob\n",
    "import re\n",
    "import csv as csv\n",
    "import random as rn\n",
    "import math\n",
    "import ast #http://stackoverflow.com/questions/1894269/convert-string-representation-of-list-to-list-in-python\n",
    "#import to_datetime\n",
    "import datetime\n",
    "from ggplot import *\n",
    "from __future__ import division\n",
    "\n",
    "#from lxml.html import parse\n",
    "from urllib2 import urlopen\n",
    "import webbrowser"
   ]
  },
  {
   "cell_type": "markdown",
   "metadata": {},
   "source": [
    "#Upload datasets"
   ]
  },
  {
   "cell_type": "markdown",
   "metadata": {},
   "source": [
    "> Define products to be taken into account for credited conversions"
   ]
  },
  {
   "cell_type": "markdown",
   "metadata": {},
   "source": [
    ">/!\\ Which products do you want to take into account????"
   ]
  },
  {
   "cell_type": "code",
   "execution_count": 3,
   "metadata": {
    "collapsed": true
   },
   "outputs": [],
   "source": [
    "#On part donc sur de la performance avec un budget de 85K€ et un CPM à 2€\n",
    " \n",
    "#Les objectifs sont les suivants :\n",
    "#80% cible Part et 20% cible pros\n",
    "#KPI 1 : ROI gamme Mobilité à 6€ : PD/DI/DN/TI/TN/AM/PR\n",
    "#KPI 2 : CA réexpédition 50% des ventes : TI/TN/DI/DN\n",
    "#KPI 3 : 50% du CA en conquête\n",
    " \n",
    "#Pour la fenêtre d’attribution on sera sur du 15 J en PC et 48H en PV\n",
    "\n",
    "\n",
    "#http://stackoverflow.com/questions/12096252/use-a-list-of-values-to-select-rows-from-a-pandas-dataframe\n",
    "#gamme_prod = ['DN', 'DI', 'PD', 'TI', 'TN']\n",
    "#gamme_prod = ['DN', 'DI', 'PD', 'TI', 'TN','Mixte']\n",
    "gamme_prod = ['PD','DI','DN','TI','TN','AM','PR','Mixte']\n",
    "\n",
    "\n",
    "QC_cpm = 2.0"
   ]
  },
  {
   "cell_type": "markdown",
   "metadata": {},
   "source": [
    "> Name of the files to be uploaded\n",
    "\n",
    "> These should be hosted in the root folder"
   ]
  },
  {
   "cell_type": "code",
   "execution_count": 4,
   "metadata": {
    "collapsed": false
   },
   "outputs": [],
   "source": [
    "#file_quanti \n",
    "adServerFile = 'Report_Quantcast_mobilite_Standard_v1_M88Z5cUHryFJpRP_AA1S.xlsx'\n",
    "#file_quali \n",
    "detailedFile = 'Report_Quantcast_mobilite_conversion_view_PNJjl0461vpIzpMgHrA7.csv'"
   ]
  },
  {
   "cell_type": "code",
   "execution_count": 5,
   "metadata": {
    "collapsed": true
   },
   "outputs": [],
   "source": [
    "#first file to be uploaded details of products part of each conversion\n",
    "detailedConversions = pd.read_csv(detailedFile, dtype=object)\n",
    "\n",
    "#We need to update the date format and strip hours\n",
    "#http://stackoverflow.com/questions/26387986/strip-time-from-an-object-date-in-pandas\n",
    "detailedConversions['conversion_date'] = pd.to_datetime(detailedConversions['Conversion date-hour'])\n",
    "detailedConversions['conversion_date'] = detailedConversions['conversion_date'].apply(lambda x:x.date().strftime('%Y-%m-%d'))\n",
    "\n",
    "#detailedConversions details products within each orders\n",
    "#check what's in detailedConversions\n",
    "\n",
    "#detailedConversions.count()"
   ]
  },
  {
   "cell_type": "code",
   "execution_count": 6,
   "metadata": {
    "collapsed": false
   },
   "outputs": [],
   "source": [
    "#then upload the second file. this is the regular 3PAS files with every conversions to which we contributed. \n",
    "xls_file = pd.ExcelFile(adServerFile)\n",
    "adServerTable = xls_file.parse('DataView')\n",
    "\n",
    "#adServerTable credits each order to a vendor\n",
    "# /!\\ We want to had details of orders containing products for which we are credited /!\\\n",
    "#check what's in adServerTable\n",
    "\n",
    "\n",
    "#adServerTable.count()"
   ]
  },
  {
   "cell_type": "markdown",
   "metadata": {},
   "source": [
    "#Create matching key on both datasets"
   ]
  },
  {
   "cell_type": "code",
   "execution_count": 7,
   "metadata": {
    "collapsed": true
   },
   "outputs": [],
   "source": [
    "#create function that will be used to create matching key by concatenating several columns\n",
    "#http://stackoverflow.com/questions/23444858/concatenate-column-values-in-pandas-dataframe-with-nan-values\n",
    "def concat(*args):\n",
    "    strs = [str(arg) for arg in args if not pd.isnull(arg)]\n",
    "    return '_'.join(strs) if strs else np.nan\n",
    "\n",
    "np_concat = np.vectorize(concat)"
   ]
  },
  {
   "cell_type": "code",
   "execution_count": 8,
   "metadata": {
    "collapsed": false
   },
   "outputs": [
    {
     "data": {
      "text/html": [
       "<div style=\"max-height:1000px;max-width:1500px;overflow:auto;\">\n",
       "<table border=\"1\" class=\"dataframe\">\n",
       "  <thead>\n",
       "    <tr style=\"text-align: right;\">\n",
       "      <th></th>\n",
       "      <th>Date</th>\n",
       "      <th>Site/Offer ID</th>\n",
       "      <th>Insertion ID</th>\n",
       "      <th>Creative ID</th>\n",
       "      <th>key</th>\n",
       "    </tr>\n",
       "  </thead>\n",
       "  <tbody>\n",
       "    <tr>\n",
       "      <th>0</th>\n",
       "      <td>2016-03-08</td>\n",
       "      <td>1123</td>\n",
       "      <td>7490</td>\n",
       "      <td>1731</td>\n",
       "      <td>2016-03-08_1123_7490_1731</td>\n",
       "    </tr>\n",
       "    <tr>\n",
       "      <th>1</th>\n",
       "      <td>2016-03-08</td>\n",
       "      <td>1123</td>\n",
       "      <td>7483</td>\n",
       "      <td>1733</td>\n",
       "      <td>2016-03-08_1123_7483_1733</td>\n",
       "    </tr>\n",
       "  </tbody>\n",
       "</table>\n",
       "</div>"
      ],
      "text/plain": [
       "         Date  Site/Offer ID  Insertion ID  Creative ID  \\\n",
       "0  2016-03-08           1123          7490         1731   \n",
       "1  2016-03-08           1123          7483         1733   \n",
       "\n",
       "                         key  \n",
       "0  2016-03-08_1123_7490_1731  \n",
       "1  2016-03-08_1123_7483_1733  "
      ]
     },
     "execution_count": 8,
     "metadata": {},
     "output_type": "execute_result"
    }
   ],
   "source": [
    "#We need to define the key to join both file. \n",
    "#first 3PAS report Key\n",
    "adServerTable['key'] = np_concat(adServerTable['Date'], adServerTable['Site/Offer ID'], adServerTable['Insertion ID'], adServerTable['Creative ID'])\n",
    "#QA the created key\n",
    "adServerTable[['Date','Site/Offer ID','Insertion ID','Creative ID', 'key']].head(2)"
   ]
  },
  {
   "cell_type": "code",
   "execution_count": 9,
   "metadata": {
    "collapsed": false
   },
   "outputs": [
    {
     "data": {
      "text/html": [
       "<div style=\"max-height:1000px;max-width:1500px;overflow:auto;\">\n",
       "<table border=\"1\" class=\"dataframe\">\n",
       "  <thead>\n",
       "    <tr style=\"text-align: right;\">\n",
       "      <th></th>\n",
       "      <th>conversion_date</th>\n",
       "      <th>Site-Offer ID</th>\n",
       "      <th>Insertion ID</th>\n",
       "      <th>Creative ID</th>\n",
       "      <th>key</th>\n",
       "    </tr>\n",
       "  </thead>\n",
       "  <tbody>\n",
       "    <tr>\n",
       "      <th>0</th>\n",
       "      <td>2016-03-10</td>\n",
       "      <td>1123</td>\n",
       "      <td>7485</td>\n",
       "      <td>1731</td>\n",
       "      <td>2016-03-10_1123_7485_1731</td>\n",
       "    </tr>\n",
       "    <tr>\n",
       "      <th>1</th>\n",
       "      <td>2016-03-10</td>\n",
       "      <td>1123</td>\n",
       "      <td>7485</td>\n",
       "      <td>1731</td>\n",
       "      <td>2016-03-10_1123_7485_1731</td>\n",
       "    </tr>\n",
       "  </tbody>\n",
       "</table>\n",
       "</div>"
      ],
      "text/plain": [
       "  conversion_date Site-Offer ID Insertion ID Creative ID  \\\n",
       "0      2016-03-10          1123         7485        1731   \n",
       "1      2016-03-10          1123         7485        1731   \n",
       "\n",
       "                         key  \n",
       "0  2016-03-10_1123_7485_1731  \n",
       "1  2016-03-10_1123_7485_1731  "
      ]
     },
     "execution_count": 9,
     "metadata": {},
     "output_type": "execute_result"
    }
   ],
   "source": [
    "detailedConversions['key'] = np_concat(detailedConversions['conversion_date'], detailedConversions['Site-Offer ID'], detailedConversions['Insertion ID'], detailedConversions['Creative ID'])\n",
    "#QA the created key\n",
    "detailedConversions[['conversion_date','Site-Offer ID','Insertion ID','Creative ID', 'key']].head(2)"
   ]
  },
  {
   "cell_type": "markdown",
   "metadata": {},
   "source": [
    "#Define functions for latter use"
   ]
  },
  {
   "cell_type": "markdown",
   "metadata": {},
   "source": [
    "> Let's define several functions that'll be used for cleaning datasets"
   ]
  },
  {
   "cell_type": "code",
   "execution_count": 10,
   "metadata": {
    "collapsed": true
   },
   "outputs": [],
   "source": [
    "# function aimed at cleaning revenue figures\n",
    "\n",
    "def cleanrev(col):\n",
    "    if col == '-':\n",
    "        return 0.0\n",
    "    else:\n",
    "        return float(col)"
   ]
  },
  {
   "cell_type": "code",
   "execution_count": 11,
   "metadata": {
    "collapsed": false
   },
   "outputs": [],
   "source": [
    "# function aimed at cleaning products part of the orders\n",
    "\n",
    "def cleanGamme(col,gamme_prod):\n",
    "    items = list(set(col.split(\"|\")) )\n",
    "    if len(items) == 1:\n",
    "        return items[0]\n",
    "    elif re.search('|'.join(gamme_prod),col):\n",
    "        return \"Mixte\"\n",
    "    else:\n",
    "        return \"Mixte_non_comptabilise\"\n",
    "        "
   ]
  },
  {
   "cell_type": "code",
   "execution_count": 12,
   "metadata": {
    "collapsed": false
   },
   "outputs": [],
   "source": [
    "# function aimed at associating products and unit price\n",
    "# /!\\ We need to verify every product are added and quantity matches\n",
    "\n",
    "def cleanProduitMix(df):\n",
    "    items = df[0].split(\"|\")\n",
    "    prices = df[1].split(\"|\")\n",
    "    quantity = df[2].split(\"|\")\n",
    "    if len(items) == 1:\n",
    "        return items[0] + '-%s-%s' %(float(prices[0]), float(quantity[0])) #*float(quantity[0]))\n",
    "    else:\n",
    "#        mix = '%s-' %len(items)\n",
    "        l = len(items)\n",
    "        mix = ''\n",
    "        for i in range(0,len(items)-2):\n",
    "            mix = mix + items[i] + '-%s-%s|' %(float(prices[i]), float(quantity[i])) #*float(quantity[i]))\n",
    "        return mix + items[l-1] + '-%s-%s' %(float(prices[l-1]), float(quantity[l-1])) #*float(quantity[l-1]))"
   ]
  },
  {
   "cell_type": "code",
   "execution_count": 13,
   "metadata": {
    "collapsed": false
   },
   "outputs": [],
   "source": [
    "#function aimed at concatenating several columns separated by '-'\n",
    "def concatenate(df):\n",
    "    if len(df)>0:\n",
    "        c = ''\n",
    "        l = len(df)-1\n",
    "        for i in range (0, l-1):\n",
    "            c = c + df[i] + '-'\n",
    "        return c + df[l]\n",
    "    else:\n",
    "        return ''"
   ]
  },
  {
   "cell_type": "code",
   "execution_count": 14,
   "metadata": {
    "collapsed": true
   },
   "outputs": [],
   "source": [
    "#function to be used when filtering out products not in required\n",
    "def filter_products(x):\n",
    "    if re.search('|'.join(gamme_prod),x):\n",
    "        return \"true\"\n",
    "    else:\n",
    "        return \"false\""
   ]
  },
  {
   "cell_type": "markdown",
   "metadata": {},
   "source": [
    "#Treat and refine qualitative file"
   ]
  },
  {
   "cell_type": "markdown",
   "metadata": {
    "collapsed": false
   },
   "source": [
    "> The goal here is to agregate orders constituted by credited products to the 3PAS file"
   ]
  },
  {
   "cell_type": "code",
   "execution_count": 15,
   "metadata": {
    "collapsed": false
   },
   "outputs": [
    {
     "data": {
      "text/html": [
       "<div style=\"max-height:1000px;max-width:1500px;overflow:auto;\">\n",
       "<table border=\"1\" class=\"dataframe\">\n",
       "  <thead>\n",
       "    <tr style=\"text-align: right;\">\n",
       "      <th></th>\n",
       "      <th>key</th>\n",
       "      <th>nom_site</th>\n",
       "      <th>gamme_produit</th>\n",
       "      <th>prix_produit</th>\n",
       "      <th>nombre_produit</th>\n",
       "      <th>prix_ht_zanox</th>\n",
       "      <th>revenue_transaction</th>\n",
       "      <th>panier</th>\n",
       "    </tr>\n",
       "  </thead>\n",
       "  <tbody>\n",
       "    <tr>\n",
       "      <th>108</th>\n",
       "      <td>2016-03-14_1123_7491_1740</td>\n",
       "      <td>Part</td>\n",
       "      <td>VREL</td>\n",
       "      <td>4.92</td>\n",
       "      <td>1</td>\n",
       "      <td>4.92</td>\n",
       "      <td>4.92</td>\n",
       "      <td>VREL</td>\n",
       "    </tr>\n",
       "    <tr>\n",
       "      <th>130</th>\n",
       "      <td>2016-03-14_1123_7491_1740</td>\n",
       "      <td>Part</td>\n",
       "      <td>LRE</td>\n",
       "      <td>6.61</td>\n",
       "      <td>1</td>\n",
       "      <td>6.61</td>\n",
       "      <td>6.61</td>\n",
       "      <td>LRE</td>\n",
       "    </tr>\n",
       "    <tr>\n",
       "      <th>148</th>\n",
       "      <td>2016-03-14_1123_7491_1740</td>\n",
       "      <td>Part</td>\n",
       "      <td>LRE</td>\n",
       "      <td>5.33</td>\n",
       "      <td>1</td>\n",
       "      <td>5.33</td>\n",
       "      <td>5.33</td>\n",
       "      <td>LRE</td>\n",
       "    </tr>\n",
       "  </tbody>\n",
       "</table>\n",
       "</div>"
      ],
      "text/plain": [
       "                           key nom_site gamme_produit prix_produit  \\\n",
       "108  2016-03-14_1123_7491_1740     Part          VREL         4.92   \n",
       "130  2016-03-14_1123_7491_1740     Part           LRE         6.61   \n",
       "148  2016-03-14_1123_7491_1740     Part           LRE         5.33   \n",
       "\n",
       "    nombre_produit prix_ht_zanox  revenue_transaction panier  \n",
       "108              1          4.92                 4.92   VREL  \n",
       "130              1          6.61                 6.61    LRE  \n",
       "148              1          5.33                 5.33    LRE  "
      ]
     },
     "execution_count": 15,
     "metadata": {},
     "output_type": "execute_result"
    }
   ],
   "source": [
    "details3PAS = detailedConversions[['key','nom_site','gamme_produit', 'prix_produit','nombre_produit' ,'prix_ht_zanox']]\n",
    "details3PAS = pd.DataFrame(details3PAS).dropna()\n",
    "    \n",
    "details3PAS['revenue_transaction'] = details3PAS.prix_ht_zanox.apply(lambda x: cleanrev(x))\n",
    "details3PAS['panier'] = details3PAS.gamme_produit.apply(lambda x: cleanGamme(x,gamme_prod))\n",
    "\n",
    "#details3PAS.head(4)\n",
    "details3PAS[details3PAS.key == '2016-03-14_1123_7491_1740'].head(3)"
   ]
  },
  {
   "cell_type": "code",
   "execution_count": 16,
   "metadata": {
    "collapsed": false
   },
   "outputs": [
    {
     "data": {
      "text/html": [
       "<div style=\"max-height:1000px;max-width:1500px;overflow:auto;\">\n",
       "<table border=\"1\" class=\"dataframe\">\n",
       "  <thead>\n",
       "    <tr style=\"text-align: right;\">\n",
       "      <th></th>\n",
       "      <th>key</th>\n",
       "      <th>nom_site</th>\n",
       "      <th>relevant_conversions</th>\n",
       "      <th>total_revenue</th>\n",
       "    </tr>\n",
       "  </thead>\n",
       "  <tbody>\n",
       "    <tr>\n",
       "      <th>0</th>\n",
       "      <td>2016-03-10_1123_7485_1731</td>\n",
       "      <td>Part</td>\n",
       "      <td>3</td>\n",
       "      <td>73.39</td>\n",
       "    </tr>\n",
       "    <tr>\n",
       "      <th>1</th>\n",
       "      <td>2016-03-10_1123_7487_1735</td>\n",
       "      <td>Part</td>\n",
       "      <td>1</td>\n",
       "      <td>58.50</td>\n",
       "    </tr>\n",
       "    <tr>\n",
       "      <th>2</th>\n",
       "      <td>2016-03-10_1123_7490_1731</td>\n",
       "      <td>Part</td>\n",
       "      <td>1</td>\n",
       "      <td>25.50</td>\n",
       "    </tr>\n",
       "  </tbody>\n",
       "</table>\n",
       "</div>"
      ],
      "text/plain": [
       "                         key nom_site  relevant_conversions  total_revenue\n",
       "0  2016-03-10_1123_7485_1731     Part                     3          73.39\n",
       "1  2016-03-10_1123_7487_1735     Part                     1          58.50\n",
       "2  2016-03-10_1123_7490_1731     Part                     1          25.50"
      ]
     },
     "execution_count": 16,
     "metadata": {},
     "output_type": "execute_result"
    }
   ],
   "source": [
    "dataSet3PAS= details3PAS.drop(['gamme_produit','nombre_produit','prix_produit','prix_ht_zanox'],1)\n",
    "dataSet3PAS['selected'] = dataSet3PAS['panier'].apply(lambda x: filter_products(x))\n",
    "dataSet3PAS = dataSet3PAS[dataSet3PAS['selected'] == 'true']\n",
    "\n",
    "transactions = dataSet3PAS.groupby(['key', 'nom_site']).agg({\n",
    "                                     'panier': 'count',\n",
    "                                     'revenue_transaction': sum\n",
    "                                               }).reset_index()    \n",
    "\n",
    "transactions.columns = ['key', 'nom_site', 'relevant_conversions', 'total_revenue']\n",
    "transactions.head(3)\n",
    "\n",
    "\n",
    "#transactions = dataSet3PAS.groupby(['key']).count().reset_index()\n",
    "#revenue = dataSet3PAS.groupby(['key']).sum().reset_index()\n",
    "#transactions.head(10)\n",
    "#revenue.head(10)\n",
    "#ds = transactions.join(revenue).reset_index()\n",
    "#ds.columns = ['key', 'revenue', 'conversions']\n",
    "#ds.head(5)"
   ]
  },
  {
   "cell_type": "code",
   "execution_count": 17,
   "metadata": {
    "collapsed": false
   },
   "outputs": [
    {
     "data": {
      "text/html": [
       "<div style=\"max-height:1000px;max-width:1500px;overflow:auto;\">\n",
       "<table border=\"1\" class=\"dataframe\">\n",
       "  <thead>\n",
       "    <tr style=\"text-align: right;\">\n",
       "      <th></th>\n",
       "      <th>key</th>\n",
       "      <th>nom_site</th>\n",
       "      <th>revenue_transaction</th>\n",
       "      <th>panier</th>\n",
       "      <th>order</th>\n",
       "    </tr>\n",
       "  </thead>\n",
       "  <tbody>\n",
       "    <tr>\n",
       "      <th>0</th>\n",
       "      <td>2016-03-10_1123_7485_1731</td>\n",
       "      <td>Part</td>\n",
       "      <td>37.50</td>\n",
       "      <td>PD</td>\n",
       "      <td>PD-37.5-1.0</td>\n",
       "    </tr>\n",
       "    <tr>\n",
       "      <th>1</th>\n",
       "      <td>2016-03-10_1123_7485_1731</td>\n",
       "      <td>Pro</td>\n",
       "      <td>17.00</td>\n",
       "      <td>MTEL</td>\n",
       "      <td>MTEL-17.0-1.0</td>\n",
       "    </tr>\n",
       "    <tr>\n",
       "      <th>2</th>\n",
       "      <td>2016-03-10_1123_7485_1731</td>\n",
       "      <td>Part</td>\n",
       "      <td>16.32</td>\n",
       "      <td>MTEL</td>\n",
       "      <td>MTEL-16.32-24.0</td>\n",
       "    </tr>\n",
       "  </tbody>\n",
       "</table>\n",
       "</div>"
      ],
      "text/plain": [
       "                         key nom_site  revenue_transaction panier  \\\n",
       "0  2016-03-10_1123_7485_1731     Part                37.50     PD   \n",
       "1  2016-03-10_1123_7485_1731      Pro                17.00   MTEL   \n",
       "2  2016-03-10_1123_7485_1731     Part                16.32   MTEL   \n",
       "\n",
       "             order  \n",
       "0      PD-37.5-1.0  \n",
       "1    MTEL-17.0-1.0  \n",
       "2  MTEL-16.32-24.0  "
      ]
     },
     "execution_count": 17,
     "metadata": {},
     "output_type": "execute_result"
    }
   ],
   "source": [
    "#reorder products with unit prices\n",
    "\n",
    "#http://stackoverflow.com/questions/13331698/how-to-apply-a-function-to-two-columns-of-pandas-dataframe\n",
    "#http://stackoverflow.com/questions/19914937/applying-function-with-multiple-arguments-to-create-a-new-pandas-column\n",
    "\n",
    "details3PAS['order'] = details3PAS[['gamme_produit','prix_produit','nombre_produit']].apply(cleanProduitMix, axis = 1)\n",
    "details3PAS = details3PAS.drop(['gamme_produit','nombre_produit','prix_produit','prix_ht_zanox'],1)\n",
    "details3PAS.head(3)"
   ]
  },
  {
   "cell_type": "code",
   "execution_count": 18,
   "metadata": {
    "collapsed": false
   },
   "outputs": [
    {
     "data": {
      "text/html": [
       "<div style=\"max-height:1000px;max-width:1500px;overflow:auto;\">\n",
       "<table border=\"1\" class=\"dataframe\">\n",
       "  <thead>\n",
       "    <tr style=\"text-align: right;\">\n",
       "      <th></th>\n",
       "      <th>key</th>\n",
       "      <th>nom_site</th>\n",
       "      <th>revenue_transaction</th>\n",
       "      <th>panier</th>\n",
       "      <th>order</th>\n",
       "    </tr>\n",
       "  </thead>\n",
       "  <tbody>\n",
       "    <tr>\n",
       "      <th>108</th>\n",
       "      <td>2016-03-14_1123_7491_1740</td>\n",
       "      <td>Part</td>\n",
       "      <td>4.92</td>\n",
       "      <td>VREL</td>\n",
       "      <td>VREL-4.92-1.0</td>\n",
       "    </tr>\n",
       "    <tr>\n",
       "      <th>130</th>\n",
       "      <td>2016-03-14_1123_7491_1740</td>\n",
       "      <td>Part</td>\n",
       "      <td>6.61</td>\n",
       "      <td>LRE</td>\n",
       "      <td>LRE-6.61-1.0</td>\n",
       "    </tr>\n",
       "    <tr>\n",
       "      <th>148</th>\n",
       "      <td>2016-03-14_1123_7491_1740</td>\n",
       "      <td>Part</td>\n",
       "      <td>5.33</td>\n",
       "      <td>LRE</td>\n",
       "      <td>LRE-5.33-1.0</td>\n",
       "    </tr>\n",
       "    <tr>\n",
       "      <th>164</th>\n",
       "      <td>2016-03-14_1123_7491_1740</td>\n",
       "      <td>Part</td>\n",
       "      <td>46.00</td>\n",
       "      <td>DN</td>\n",
       "      <td>DN-46.0-1.0</td>\n",
       "    </tr>\n",
       "    <tr>\n",
       "      <th>165</th>\n",
       "      <td>2016-03-14_1123_7491_1740</td>\n",
       "      <td>Part</td>\n",
       "      <td>12.50</td>\n",
       "      <td>AELC</td>\n",
       "      <td>AELC-12.5-1.0</td>\n",
       "    </tr>\n",
       "    <tr>\n",
       "      <th>187</th>\n",
       "      <td>2016-03-14_1123_7491_1740</td>\n",
       "      <td>Part</td>\n",
       "      <td>46.00</td>\n",
       "      <td>TN</td>\n",
       "      <td>TN-46.0-1.0</td>\n",
       "    </tr>\n",
       "    <tr>\n",
       "      <th>188</th>\n",
       "      <td>2016-03-14_1123_7491_1740</td>\n",
       "      <td>Part</td>\n",
       "      <td>42.30</td>\n",
       "      <td>Mixte</td>\n",
       "      <td>Produit_physique_part-8.4-1.0|DN-25.5-1.0</td>\n",
       "    </tr>\n",
       "  </tbody>\n",
       "</table>\n",
       "</div>"
      ],
      "text/plain": [
       "                           key nom_site  revenue_transaction panier  \\\n",
       "108  2016-03-14_1123_7491_1740     Part                 4.92   VREL   \n",
       "130  2016-03-14_1123_7491_1740     Part                 6.61    LRE   \n",
       "148  2016-03-14_1123_7491_1740     Part                 5.33    LRE   \n",
       "164  2016-03-14_1123_7491_1740     Part                46.00     DN   \n",
       "165  2016-03-14_1123_7491_1740     Part                12.50   AELC   \n",
       "187  2016-03-14_1123_7491_1740     Part                46.00     TN   \n",
       "188  2016-03-14_1123_7491_1740     Part                42.30  Mixte   \n",
       "\n",
       "                                         order  \n",
       "108                              VREL-4.92-1.0  \n",
       "130                               LRE-6.61-1.0  \n",
       "148                               LRE-5.33-1.0  \n",
       "164                                DN-46.0-1.0  \n",
       "165                              AELC-12.5-1.0  \n",
       "187                                TN-46.0-1.0  \n",
       "188  Produit_physique_part-8.4-1.0|DN-25.5-1.0  "
      ]
     },
     "execution_count": 18,
     "metadata": {},
     "output_type": "execute_result"
    }
   ],
   "source": [
    "# It seems files are not accurately populated. \n",
    "# As basket details don't match actual basket (sum does not equals revenue transaction) we cannot use Mixed baskets\n",
    "\n",
    "details3PAS[details3PAS.key == '2016-03-14_1123_7491_1740'].head(10)"
   ]
  },
  {
   "cell_type": "markdown",
   "metadata": {
    "collapsed": true
   },
   "source": [
    "> We need to create a row per product purchased"
   ]
  },
  {
   "cell_type": "code",
   "execution_count": 19,
   "metadata": {
    "collapsed": false
   },
   "outputs": [
    {
     "data": {
      "text/html": [
       "<div style=\"max-height:1000px;max-width:1500px;overflow:auto;\">\n",
       "<table border=\"1\" class=\"dataframe\">\n",
       "  <thead>\n",
       "    <tr style=\"text-align: right;\">\n",
       "      <th></th>\n",
       "      <th>key</th>\n",
       "      <th>nom_site</th>\n",
       "      <th>revenue_transaction</th>\n",
       "      <th>panier</th>\n",
       "      <th>order</th>\n",
       "      <th>product</th>\n",
       "      <th>price</th>\n",
       "      <th>quantity</th>\n",
       "    </tr>\n",
       "  </thead>\n",
       "  <tbody>\n",
       "    <tr>\n",
       "      <th>108</th>\n",
       "      <td>2016-03-14_1123_7491_1740</td>\n",
       "      <td>Part</td>\n",
       "      <td>4.92</td>\n",
       "      <td>VREL</td>\n",
       "      <td>VREL-4.92-1.0</td>\n",
       "      <td>VREL</td>\n",
       "      <td>4.92</td>\n",
       "      <td>1</td>\n",
       "    </tr>\n",
       "    <tr>\n",
       "      <th>130</th>\n",
       "      <td>2016-03-14_1123_7491_1740</td>\n",
       "      <td>Part</td>\n",
       "      <td>6.61</td>\n",
       "      <td>LRE</td>\n",
       "      <td>LRE-6.61-1.0</td>\n",
       "      <td>LRE</td>\n",
       "      <td>6.61</td>\n",
       "      <td>1</td>\n",
       "    </tr>\n",
       "    <tr>\n",
       "      <th>148</th>\n",
       "      <td>2016-03-14_1123_7491_1740</td>\n",
       "      <td>Part</td>\n",
       "      <td>5.33</td>\n",
       "      <td>LRE</td>\n",
       "      <td>LRE-5.33-1.0</td>\n",
       "      <td>LRE</td>\n",
       "      <td>5.33</td>\n",
       "      <td>1</td>\n",
       "    </tr>\n",
       "    <tr>\n",
       "      <th>164</th>\n",
       "      <td>2016-03-14_1123_7491_1740</td>\n",
       "      <td>Part</td>\n",
       "      <td>46.00</td>\n",
       "      <td>DN</td>\n",
       "      <td>DN-46.0-1.0</td>\n",
       "      <td>DN</td>\n",
       "      <td>46.00</td>\n",
       "      <td>1</td>\n",
       "    </tr>\n",
       "    <tr>\n",
       "      <th>165</th>\n",
       "      <td>2016-03-14_1123_7491_1740</td>\n",
       "      <td>Part</td>\n",
       "      <td>12.50</td>\n",
       "      <td>AELC</td>\n",
       "      <td>AELC-12.5-1.0</td>\n",
       "      <td>AELC</td>\n",
       "      <td>12.50</td>\n",
       "      <td>1</td>\n",
       "    </tr>\n",
       "  </tbody>\n",
       "</table>\n",
       "</div>"
      ],
      "text/plain": [
       "                           key nom_site  revenue_transaction panier  \\\n",
       "108  2016-03-14_1123_7491_1740     Part                 4.92   VREL   \n",
       "130  2016-03-14_1123_7491_1740     Part                 6.61    LRE   \n",
       "148  2016-03-14_1123_7491_1740     Part                 5.33    LRE   \n",
       "164  2016-03-14_1123_7491_1740     Part                46.00     DN   \n",
       "165  2016-03-14_1123_7491_1740     Part                12.50   AELC   \n",
       "\n",
       "             order product  price  quantity  \n",
       "108  VREL-4.92-1.0    VREL   4.92         1  \n",
       "130   LRE-6.61-1.0     LRE   6.61         1  \n",
       "148   LRE-5.33-1.0     LRE   5.33         1  \n",
       "164    DN-46.0-1.0      DN  46.00         1  \n",
       "165  AELC-12.5-1.0    AELC  12.50         1  "
      ]
     },
     "execution_count": 19,
     "metadata": {},
     "output_type": "execute_result"
    }
   ],
   "source": [
    "#http://stackoverflow.com/questions/17116814/pandas-how-do-i-split-text-in-a-column-into-multiple-rows\n",
    "#http://stackoverflow.com/questions/33622470/fast-way-to-split-column-into-multiple-rows-in-pandas\n",
    "\n",
    "#create a column with only porduct and unit prices\n",
    "s = details3PAS['order'].str.split(\"|\", expand=True).stack() #.reset_index()\n",
    "i = s.index.get_level_values(0)\n",
    "df = details3PAS.loc[i].copy()\n",
    "df[\"order\"] = s.values\n",
    "#df.head(20)\n",
    "\n",
    "#make two columns out of this. might be tricky if we want to keep the original DF \n",
    "#df_bis = pd.DataFrame(df['order'].str.split(\"-\", 1).tolist(), columns = ['product', 'price'], index = df.index) #.stack() #.reset_index()\n",
    "\n",
    "df_bis = df \n",
    "df_bis[\"product\"], df_bis[\"price\"], df_bis[\"quantity\"] = zip(*df_bis[\"order\"].str.split('-',2))\n",
    "\n",
    "\n",
    "df_bis[\"product\"] = df_bis[\"product\"].apply(lambda x: str(x))\n",
    "df_bis[\"price\"] = df_bis[\"price\"].apply(lambda x: float(x))\n",
    "df_bis[\"quantity\"] = df_bis[\"quantity\"].apply(lambda x: float(x))\n",
    "\n",
    "\n",
    "df_bis[df_bis.key == '2016-03-14_1123_7491_1740'].head()"
   ]
  },
  {
   "cell_type": "code",
   "execution_count": 20,
   "metadata": {
    "collapsed": false
   },
   "outputs": [
    {
     "data": {
      "text/html": [
       "<div style=\"max-height:1000px;max-width:1500px;overflow:auto;\">\n",
       "<table border=\"1\" class=\"dataframe\">\n",
       "  <thead>\n",
       "    <tr style=\"text-align: right;\">\n",
       "      <th></th>\n",
       "      <th>key</th>\n",
       "      <th>nom_site</th>\n",
       "      <th>product</th>\n",
       "      <th>revenue_product</th>\n",
       "    </tr>\n",
       "  </thead>\n",
       "  <tbody>\n",
       "    <tr>\n",
       "      <th>108</th>\n",
       "      <td>2016-03-14_1123_7491_1740</td>\n",
       "      <td>Part</td>\n",
       "      <td>VREL</td>\n",
       "      <td>4.92</td>\n",
       "    </tr>\n",
       "    <tr>\n",
       "      <th>130</th>\n",
       "      <td>2016-03-14_1123_7491_1740</td>\n",
       "      <td>Part</td>\n",
       "      <td>LRE</td>\n",
       "      <td>6.61</td>\n",
       "    </tr>\n",
       "    <tr>\n",
       "      <th>148</th>\n",
       "      <td>2016-03-14_1123_7491_1740</td>\n",
       "      <td>Part</td>\n",
       "      <td>LRE</td>\n",
       "      <td>5.33</td>\n",
       "    </tr>\n",
       "    <tr>\n",
       "      <th>164</th>\n",
       "      <td>2016-03-14_1123_7491_1740</td>\n",
       "      <td>Part</td>\n",
       "      <td>DN</td>\n",
       "      <td>46.00</td>\n",
       "    </tr>\n",
       "    <tr>\n",
       "      <th>165</th>\n",
       "      <td>2016-03-14_1123_7491_1740</td>\n",
       "      <td>Part</td>\n",
       "      <td>AELC</td>\n",
       "      <td>12.50</td>\n",
       "    </tr>\n",
       "    <tr>\n",
       "      <th>187</th>\n",
       "      <td>2016-03-14_1123_7491_1740</td>\n",
       "      <td>Part</td>\n",
       "      <td>TN</td>\n",
       "      <td>46.00</td>\n",
       "    </tr>\n",
       "    <tr>\n",
       "      <th>188</th>\n",
       "      <td>2016-03-14_1123_7491_1740</td>\n",
       "      <td>Part</td>\n",
       "      <td>Produit_physique_part</td>\n",
       "      <td>8.40</td>\n",
       "    </tr>\n",
       "    <tr>\n",
       "      <th>188</th>\n",
       "      <td>2016-03-14_1123_7491_1740</td>\n",
       "      <td>Part</td>\n",
       "      <td>DN</td>\n",
       "      <td>25.50</td>\n",
       "    </tr>\n",
       "  </tbody>\n",
       "</table>\n",
       "</div>"
      ],
      "text/plain": [
       "                           key nom_site                product  \\\n",
       "108  2016-03-14_1123_7491_1740     Part                   VREL   \n",
       "130  2016-03-14_1123_7491_1740     Part                    LRE   \n",
       "148  2016-03-14_1123_7491_1740     Part                    LRE   \n",
       "164  2016-03-14_1123_7491_1740     Part                     DN   \n",
       "165  2016-03-14_1123_7491_1740     Part                   AELC   \n",
       "187  2016-03-14_1123_7491_1740     Part                     TN   \n",
       "188  2016-03-14_1123_7491_1740     Part  Produit_physique_part   \n",
       "188  2016-03-14_1123_7491_1740     Part                     DN   \n",
       "\n",
       "     revenue_product  \n",
       "108             4.92  \n",
       "130             6.61  \n",
       "148             5.33  \n",
       "164            46.00  \n",
       "165            12.50  \n",
       "187            46.00  \n",
       "188             8.40  \n",
       "188            25.50  "
      ]
     },
     "execution_count": 20,
     "metadata": {},
     "output_type": "execute_result"
    }
   ],
   "source": [
    "#compute revenue for each product sold\n",
    "df_bis['revenue_product'] = df_bis['price'] * df_bis['quantity']\n",
    "\n",
    "df_bis = df_bis[['key', 'nom_site', 'product', 'revenue_product']]\n",
    "\n",
    "df_bis[df_bis.key == '2016-03-14_1123_7491_1740'].head(10)"
   ]
  },
  {
   "cell_type": "code",
   "execution_count": 21,
   "metadata": {
    "collapsed": false
   },
   "outputs": [
    {
     "name": "stderr",
     "output_type": "stream",
     "text": [
      "/private/var/localadmin/.conda/envs/py27/lib/python2.7/site-packages/IPython/kernel/__main__.py:5: SettingWithCopyWarning: \n",
      "A value is trying to be set on a copy of a slice from a DataFrame.\n",
      "Try using .loc[row_indexer,col_indexer] = value instead\n",
      "\n",
      "See the the caveats in the documentation: http://pandas.pydata.org/pandas-docs/stable/indexing.html#indexing-view-versus-copy\n"
     ]
    },
    {
     "data": {
      "text/html": [
       "<div style=\"max-height:1000px;max-width:1500px;overflow:auto;\">\n",
       "<table border=\"1\" class=\"dataframe\">\n",
       "  <thead>\n",
       "    <tr style=\"text-align: right;\">\n",
       "      <th></th>\n",
       "      <th>key</th>\n",
       "      <th>nom_site</th>\n",
       "      <th>product</th>\n",
       "      <th>revenue_product</th>\n",
       "      <th>product_bis</th>\n",
       "    </tr>\n",
       "  </thead>\n",
       "  <tbody>\n",
       "    <tr>\n",
       "      <th>0</th>\n",
       "      <td>2016-03-10_1123_7485_1731</td>\n",
       "      <td>Part</td>\n",
       "      <td>PD</td>\n",
       "      <td>37.5</td>\n",
       "      <td>true</td>\n",
       "    </tr>\n",
       "    <tr>\n",
       "      <th>4</th>\n",
       "      <td>2016-03-10_1123_7487_1735</td>\n",
       "      <td>Part</td>\n",
       "      <td>PD</td>\n",
       "      <td>58.5</td>\n",
       "      <td>true</td>\n",
       "    </tr>\n",
       "    <tr>\n",
       "      <th>7</th>\n",
       "      <td>2016-03-10_1123_7490_1731</td>\n",
       "      <td>Part</td>\n",
       "      <td>DN</td>\n",
       "      <td>25.5</td>\n",
       "      <td>true</td>\n",
       "    </tr>\n",
       "    <tr>\n",
       "      <th>9</th>\n",
       "      <td>2016-03-10_1123_7492_1735</td>\n",
       "      <td>Part</td>\n",
       "      <td>DN</td>\n",
       "      <td>25.5</td>\n",
       "      <td>true</td>\n",
       "    </tr>\n",
       "    <tr>\n",
       "      <th>11</th>\n",
       "      <td>2016-03-10_1123_7485_1731</td>\n",
       "      <td>Part</td>\n",
       "      <td>MTAM</td>\n",
       "      <td>7.0</td>\n",
       "      <td>true</td>\n",
       "    </tr>\n",
       "  </tbody>\n",
       "</table>\n",
       "</div>"
      ],
      "text/plain": [
       "                          key nom_site product  revenue_product product_bis\n",
       "0   2016-03-10_1123_7485_1731     Part      PD             37.5        true\n",
       "4   2016-03-10_1123_7487_1735     Part      PD             58.5        true\n",
       "7   2016-03-10_1123_7490_1731     Part      DN             25.5        true\n",
       "9   2016-03-10_1123_7492_1735     Part      DN             25.5        true\n",
       "11  2016-03-10_1123_7485_1731     Part    MTAM              7.0        true"
      ]
     },
     "execution_count": 21,
     "metadata": {},
     "output_type": "execute_result"
    }
   ],
   "source": [
    "#keep only products concerned by our advertisign campaign\n",
    "\n",
    "df_final = df_bis\n",
    "#using our function defined above\n",
    "df_final[\"product_bis\"] = df_final[\"product\"].apply(lambda x: filter_products(x))\n",
    "\n",
    "#filtering out false products (products not concerned by the campaign)\n",
    "df_final = df_final[df_final['product_bis'] == \"true\"]\n",
    "df_final.head()"
   ]
  },
  {
   "cell_type": "code",
   "execution_count": 29,
   "metadata": {
    "collapsed": false
   },
   "outputs": [
    {
     "data": {
      "text/html": [
       "<div style=\"max-height:1000px;max-width:1500px;overflow:auto;\">\n",
       "<table border=\"1\" class=\"dataframe\">\n",
       "  <thead>\n",
       "    <tr style=\"text-align: right;\">\n",
       "      <th></th>\n",
       "      <th>key</th>\n",
       "      <th>nom_site</th>\n",
       "      <th>revenue_product</th>\n",
       "      <th>relevant_conversions</th>\n",
       "      <th>total_revenue</th>\n",
       "    </tr>\n",
       "  </thead>\n",
       "  <tbody>\n",
       "    <tr>\n",
       "      <th>0</th>\n",
       "      <td>2016-03-10_1123_7485_1731</td>\n",
       "      <td>Part</td>\n",
       "      <td>70.0</td>\n",
       "      <td>3</td>\n",
       "      <td>73.39</td>\n",
       "    </tr>\n",
       "    <tr>\n",
       "      <th>1</th>\n",
       "      <td>2016-03-10_1123_7487_1735</td>\n",
       "      <td>Part</td>\n",
       "      <td>58.5</td>\n",
       "      <td>1</td>\n",
       "      <td>58.50</td>\n",
       "    </tr>\n",
       "    <tr>\n",
       "      <th>2</th>\n",
       "      <td>2016-03-10_1123_7490_1731</td>\n",
       "      <td>Part</td>\n",
       "      <td>25.5</td>\n",
       "      <td>1</td>\n",
       "      <td>25.50</td>\n",
       "    </tr>\n",
       "  </tbody>\n",
       "</table>\n",
       "</div>"
      ],
      "text/plain": [
       "                         key nom_site  revenue_product  relevant_conversions  \\\n",
       "0  2016-03-10_1123_7485_1731     Part             70.0                     3   \n",
       "1  2016-03-10_1123_7487_1735     Part             58.5                     1   \n",
       "2  2016-03-10_1123_7490_1731     Part             25.5                     1   \n",
       "\n",
       "   total_revenue  \n",
       "0          73.39  \n",
       "1          58.50  \n",
       "2          25.50  "
      ]
     },
     "execution_count": 29,
     "metadata": {},
     "output_type": "execute_result"
    }
   ],
   "source": [
    "#Let's sum valid revenue per transaction key\n",
    "# Group the data frame by month and item and extract a number of stats from each group\n",
    "\n",
    "df_final_bis = df_final.groupby(['key', 'nom_site']).agg({\n",
    "                                     'revenue_product':sum\n",
    "                                               }).reset_index()    \n",
    "\n",
    "#Add the total number conversions we stored in transactions DataFrame\n",
    "#transactions.columns = ['key', 'nom_site', 'relevant_conversions', 'total_revenue']\n",
    "#df_final_cleaned = pd.concat([df_final_bis,transactions], keys=['key'], join= 'inner' ,ignore_index=True)\n",
    "df_final_cleaned = pd.merge(df_final_bis,transactions, how= 'inner', on = ['key', 'nom_site'] ,left_index=False,right_index=False)\n",
    "\n",
    "#df_final_cleaned = df_final_bis.append(transactions)\n",
    "\n",
    "df_final_cleaned.head(3)"
   ]
  },
  {
   "cell_type": "markdown",
   "metadata": {
    "collapsed": false
   },
   "source": [
    "> Performances summary"
   ]
  },
  {
   "cell_type": "markdown",
   "metadata": {
    "collapsed": false
   },
   "source": [
    "# /!\\ filter dataset - first option not considered anymore since we computed revenue per product per transaction key"
   ]
  },
  {
   "cell_type": "code",
   "execution_count": 29,
   "metadata": {
    "collapsed": false
   },
   "outputs": [
    {
     "data": {
      "text/html": [
       "<div style=\"max-height:1000px;max-width:1500px;overflow:auto;\">\n",
       "<table border=\"1\" class=\"dataframe\">\n",
       "  <thead>\n",
       "    <tr style=\"text-align: right;\">\n",
       "      <th></th>\n",
       "      <th>key</th>\n",
       "      <th>nom_site</th>\n",
       "      <th>revenue_transaction</th>\n",
       "      <th>panier</th>\n",
       "      <th>order</th>\n",
       "    </tr>\n",
       "  </thead>\n",
       "  <tbody>\n",
       "    <tr>\n",
       "      <th>0</th>\n",
       "      <td>2016-03-10_1123_7485_1731</td>\n",
       "      <td>Part</td>\n",
       "      <td>37.50</td>\n",
       "      <td>PD</td>\n",
       "      <td>PD-37.5-1.0</td>\n",
       "    </tr>\n",
       "    <tr>\n",
       "      <th>1</th>\n",
       "      <td>2016-03-10_1123_7485_1731</td>\n",
       "      <td>Pro</td>\n",
       "      <td>17.00</td>\n",
       "      <td>MTEL</td>\n",
       "      <td>MTEL-17.0-1.0</td>\n",
       "    </tr>\n",
       "    <tr>\n",
       "      <th>2</th>\n",
       "      <td>2016-03-10_1123_7485_1731</td>\n",
       "      <td>Part</td>\n",
       "      <td>16.32</td>\n",
       "      <td>MTEL</td>\n",
       "      <td>MTEL-16.32-24.0</td>\n",
       "    </tr>\n",
       "    <tr>\n",
       "      <th>3</th>\n",
       "      <td>2016-03-10_1123_7492_1735</td>\n",
       "      <td>Part</td>\n",
       "      <td>48.21</td>\n",
       "      <td>Mixte_non_comptabilise</td>\n",
       "      <td>Produit_physique_part-3.55-1.0|Produit_physiqu...</td>\n",
       "    </tr>\n",
       "  </tbody>\n",
       "</table>\n",
       "</div>"
      ],
      "text/plain": [
       "                         key nom_site  revenue_transaction  \\\n",
       "0  2016-03-10_1123_7485_1731     Part                37.50   \n",
       "1  2016-03-10_1123_7485_1731      Pro                17.00   \n",
       "2  2016-03-10_1123_7485_1731     Part                16.32   \n",
       "3  2016-03-10_1123_7492_1735     Part                48.21   \n",
       "\n",
       "                   panier                                              order  \n",
       "0                      PD                                        PD-37.5-1.0  \n",
       "1                    MTEL                                      MTEL-17.0-1.0  \n",
       "2                    MTEL                                    MTEL-16.32-24.0  \n",
       "3  Mixte_non_comptabilise  Produit_physique_part-3.55-1.0|Produit_physiqu...  "
      ]
     },
     "execution_count": 29,
     "metadata": {},
     "output_type": "execute_result"
    }
   ],
   "source": [
    "#details3PAS.count()\n",
    "details3PAS.head(4)"
   ]
  },
  {
   "cell_type": "code",
   "execution_count": 44,
   "metadata": {
    "collapsed": false
   },
   "outputs": [
    {
     "ename": "ValueError",
     "evalue": "labels ['gamme_produit' 'nombre_produit' 'prix_produit' 'prix_ht_zanox'] not contained in axis",
     "output_type": "error",
     "traceback": [
      "\u001b[0;31m---------------------------------------------------------------------------\u001b[0m",
      "\u001b[0;31mValueError\u001b[0m                                Traceback (most recent call last)",
      "\u001b[0;32m<ipython-input-44-866694f27210>\u001b[0m in \u001b[0;36m<module>\u001b[0;34m()\u001b[0m\n\u001b[0;32m----> 1\u001b[0;31m \u001b[0mdataSet3PAS\u001b[0m\u001b[0;34m=\u001b[0m \u001b[0mdetails3PAS\u001b[0m\u001b[0;34m.\u001b[0m\u001b[0mdrop\u001b[0m\u001b[0;34m(\u001b[0m\u001b[0;34m[\u001b[0m\u001b[0;34m'gamme_produit'\u001b[0m\u001b[0;34m,\u001b[0m\u001b[0;34m'nombre_produit'\u001b[0m\u001b[0;34m,\u001b[0m\u001b[0;34m'prix_produit'\u001b[0m\u001b[0;34m,\u001b[0m\u001b[0;34m'prix_ht_zanox'\u001b[0m\u001b[0;34m]\u001b[0m\u001b[0;34m,\u001b[0m\u001b[0;36m1\u001b[0m\u001b[0;34m)\u001b[0m\u001b[0;34m\u001b[0m\u001b[0m\n\u001b[0m\u001b[1;32m      2\u001b[0m \u001b[0mdataSet3PAS\u001b[0m\u001b[0;34m.\u001b[0m\u001b[0mhead\u001b[0m\u001b[0;34m(\u001b[0m\u001b[0;36m3\u001b[0m\u001b[0;34m)\u001b[0m\u001b[0;34m\u001b[0m\u001b[0m\n",
      "\u001b[0;32m/var/localadmin/.conda/envs/py27/lib/python2.7/site-packages/pandas/core/generic.pyc\u001b[0m in \u001b[0;36mdrop\u001b[0;34m(self, labels, axis, level, inplace, errors)\u001b[0m\n\u001b[1;32m   1592\u001b[0m                 \u001b[0mnew_axis\u001b[0m \u001b[0;34m=\u001b[0m \u001b[0maxis\u001b[0m\u001b[0;34m.\u001b[0m\u001b[0mdrop\u001b[0m\u001b[0;34m(\u001b[0m\u001b[0mlabels\u001b[0m\u001b[0;34m,\u001b[0m \u001b[0mlevel\u001b[0m\u001b[0;34m=\u001b[0m\u001b[0mlevel\u001b[0m\u001b[0;34m,\u001b[0m \u001b[0merrors\u001b[0m\u001b[0;34m=\u001b[0m\u001b[0merrors\u001b[0m\u001b[0;34m)\u001b[0m\u001b[0;34m\u001b[0m\u001b[0m\n\u001b[1;32m   1593\u001b[0m             \u001b[0;32melse\u001b[0m\u001b[0;34m:\u001b[0m\u001b[0;34m\u001b[0m\u001b[0m\n\u001b[0;32m-> 1594\u001b[0;31m                 \u001b[0mnew_axis\u001b[0m \u001b[0;34m=\u001b[0m \u001b[0maxis\u001b[0m\u001b[0;34m.\u001b[0m\u001b[0mdrop\u001b[0m\u001b[0;34m(\u001b[0m\u001b[0mlabels\u001b[0m\u001b[0;34m,\u001b[0m \u001b[0merrors\u001b[0m\u001b[0;34m=\u001b[0m\u001b[0merrors\u001b[0m\u001b[0;34m)\u001b[0m\u001b[0;34m\u001b[0m\u001b[0m\n\u001b[0m\u001b[1;32m   1595\u001b[0m             \u001b[0mdropped\u001b[0m \u001b[0;34m=\u001b[0m \u001b[0mself\u001b[0m\u001b[0;34m.\u001b[0m\u001b[0mreindex\u001b[0m\u001b[0;34m(\u001b[0m\u001b[0;34m**\u001b[0m\u001b[0;34m{\u001b[0m\u001b[0maxis_name\u001b[0m\u001b[0;34m:\u001b[0m \u001b[0mnew_axis\u001b[0m\u001b[0;34m}\u001b[0m\u001b[0;34m)\u001b[0m\u001b[0;34m\u001b[0m\u001b[0m\n\u001b[1;32m   1596\u001b[0m             \u001b[0;32mtry\u001b[0m\u001b[0;34m:\u001b[0m\u001b[0;34m\u001b[0m\u001b[0m\n",
      "\u001b[0;32m/var/localadmin/.conda/envs/py27/lib/python2.7/site-packages/pandas/core/index.pyc\u001b[0m in \u001b[0;36mdrop\u001b[0;34m(self, labels, errors)\u001b[0m\n\u001b[1;32m   2574\u001b[0m         \u001b[0;32mif\u001b[0m \u001b[0mmask\u001b[0m\u001b[0;34m.\u001b[0m\u001b[0many\u001b[0m\u001b[0;34m(\u001b[0m\u001b[0;34m)\u001b[0m\u001b[0;34m:\u001b[0m\u001b[0;34m\u001b[0m\u001b[0m\n\u001b[1;32m   2575\u001b[0m             \u001b[0;32mif\u001b[0m \u001b[0merrors\u001b[0m \u001b[0;34m!=\u001b[0m \u001b[0;34m'ignore'\u001b[0m\u001b[0;34m:\u001b[0m\u001b[0;34m\u001b[0m\u001b[0m\n\u001b[0;32m-> 2576\u001b[0;31m                 \u001b[0;32mraise\u001b[0m \u001b[0mValueError\u001b[0m\u001b[0;34m(\u001b[0m\u001b[0;34m'labels %s not contained in axis'\u001b[0m \u001b[0;34m%\u001b[0m \u001b[0mlabels\u001b[0m\u001b[0;34m[\u001b[0m\u001b[0mmask\u001b[0m\u001b[0;34m]\u001b[0m\u001b[0;34m)\u001b[0m\u001b[0;34m\u001b[0m\u001b[0m\n\u001b[0m\u001b[1;32m   2577\u001b[0m             \u001b[0mindexer\u001b[0m \u001b[0;34m=\u001b[0m \u001b[0mindexer\u001b[0m\u001b[0;34m[\u001b[0m\u001b[0;34m~\u001b[0m\u001b[0mmask\u001b[0m\u001b[0;34m]\u001b[0m\u001b[0;34m\u001b[0m\u001b[0m\n\u001b[1;32m   2578\u001b[0m         \u001b[0;32mreturn\u001b[0m \u001b[0mself\u001b[0m\u001b[0;34m.\u001b[0m\u001b[0mdelete\u001b[0m\u001b[0;34m(\u001b[0m\u001b[0mindexer\u001b[0m\u001b[0;34m)\u001b[0m\u001b[0;34m\u001b[0m\u001b[0m\n",
      "\u001b[0;31mValueError\u001b[0m: labels ['gamme_produit' 'nombre_produit' 'prix_produit' 'prix_ht_zanox'] not contained in axis"
     ]
    }
   ],
   "source": [
    "dataSet3PAS= details3PAS.drop(['gamme_produit','nombre_produit','prix_produit','prix_ht_zanox'],1)\n",
    "dataSet3PAS.head(3)"
   ]
  },
  {
   "cell_type": "code",
   "execution_count": 17,
   "metadata": {
    "collapsed": false
   },
   "outputs": [
    {
     "data": {
      "text/html": [
       "<div style=\"max-height:1000px;max-width:1500px;overflow:auto;\">\n",
       "<table border=\"1\" class=\"dataframe\">\n",
       "  <thead>\n",
       "    <tr style=\"text-align: right;\">\n",
       "      <th></th>\n",
       "      <th>key</th>\n",
       "      <th>nom_site</th>\n",
       "      <th>revenue_transaction</th>\n",
       "      <th>panier</th>\n",
       "    </tr>\n",
       "  </thead>\n",
       "  <tbody>\n",
       "    <tr>\n",
       "      <th>0</th>\n",
       "      <td>2016-03-10_1123_7485_1731</td>\n",
       "      <td>Part</td>\n",
       "      <td>37.5</td>\n",
       "      <td>PD</td>\n",
       "    </tr>\n",
       "    <tr>\n",
       "      <th>4</th>\n",
       "      <td>2016-03-10_1123_7487_1735</td>\n",
       "      <td>Part</td>\n",
       "      <td>58.5</td>\n",
       "      <td>PD</td>\n",
       "    </tr>\n",
       "    <tr>\n",
       "      <th>7</th>\n",
       "      <td>2016-03-10_1123_7490_1731</td>\n",
       "      <td>Part</td>\n",
       "      <td>25.5</td>\n",
       "      <td>DN</td>\n",
       "    </tr>\n",
       "    <tr>\n",
       "      <th>9</th>\n",
       "      <td>2016-03-10_1123_7492_1735</td>\n",
       "      <td>Part</td>\n",
       "      <td>25.5</td>\n",
       "      <td>DN</td>\n",
       "    </tr>\n",
       "    <tr>\n",
       "      <th>13</th>\n",
       "      <td>2016-03-10_1123_7485_1731</td>\n",
       "      <td>Part</td>\n",
       "      <td>25.5</td>\n",
       "      <td>DN</td>\n",
       "    </tr>\n",
       "  </tbody>\n",
       "</table>\n",
       "</div>"
      ],
      "text/plain": [
       "                          key nom_site  revenue_transaction panier\n",
       "0   2016-03-10_1123_7485_1731     Part                 37.5     PD\n",
       "4   2016-03-10_1123_7487_1735     Part                 58.5     PD\n",
       "7   2016-03-10_1123_7490_1731     Part                 25.5     DN\n",
       "9   2016-03-10_1123_7492_1735     Part                 25.5     DN\n",
       "13  2016-03-10_1123_7485_1731     Part                 25.5     DN"
      ]
     },
     "execution_count": 17,
     "metadata": {},
     "output_type": "execute_result"
    }
   ],
   "source": [
    "dataSet3PAS = dataSet3PAS[dataSet3PAS.panier.isin(gamme_prod)]\n",
    "dataSet3PAS.head(5)"
   ]
  },
  {
   "cell_type": "code",
   "execution_count": 18,
   "metadata": {
    "collapsed": false
   },
   "outputs": [],
   "source": [
    "transactions = dataSet3PAS.groupby(['key']).count()\n",
    "revenue = dataSet3PAS.groupby(['key']).sum()\n",
    "ds = pd.DataFrame(transactions,revenue)"
   ]
  },
  {
   "cell_type": "code",
   "execution_count": 19,
   "metadata": {
    "collapsed": false
   },
   "outputs": [
    {
     "data": {
      "text/html": [
       "<div style=\"max-height:1000px;max-width:1500px;overflow:auto;\">\n",
       "<table border=\"1\" class=\"dataframe\">\n",
       "  <thead>\n",
       "    <tr style=\"text-align: right;\">\n",
       "      <th></th>\n",
       "      <th>key</th>\n",
       "      <th>revenue</th>\n",
       "      <th>conversions</th>\n",
       "    </tr>\n",
       "  </thead>\n",
       "  <tbody>\n",
       "    <tr>\n",
       "      <th>0</th>\n",
       "      <td>2016-03-10_1123_7485_1731</td>\n",
       "      <td>63.0</td>\n",
       "      <td>2</td>\n",
       "    </tr>\n",
       "    <tr>\n",
       "      <th>1</th>\n",
       "      <td>2016-03-10_1123_7487_1735</td>\n",
       "      <td>58.5</td>\n",
       "      <td>1</td>\n",
       "    </tr>\n",
       "    <tr>\n",
       "      <th>2</th>\n",
       "      <td>2016-03-10_1123_7490_1731</td>\n",
       "      <td>25.5</td>\n",
       "      <td>1</td>\n",
       "    </tr>\n",
       "    <tr>\n",
       "      <th>3</th>\n",
       "      <td>2016-03-10_1123_7492_1735</td>\n",
       "      <td>25.5</td>\n",
       "      <td>1</td>\n",
       "    </tr>\n",
       "    <tr>\n",
       "      <th>4</th>\n",
       "      <td>2016-03-11_1123_7484_1733</td>\n",
       "      <td>37.5</td>\n",
       "      <td>1</td>\n",
       "    </tr>\n",
       "  </tbody>\n",
       "</table>\n",
       "</div>"
      ],
      "text/plain": [
       "                         key  revenue  conversions\n",
       "0  2016-03-10_1123_7485_1731     63.0            2\n",
       "1  2016-03-10_1123_7487_1735     58.5            1\n",
       "2  2016-03-10_1123_7490_1731     25.5            1\n",
       "3  2016-03-10_1123_7492_1735     25.5            1\n",
       "4  2016-03-11_1123_7484_1733     37.5            1"
      ]
     },
     "execution_count": 19,
     "metadata": {},
     "output_type": "execute_result"
    }
   ],
   "source": [
    "transactions = pd.DataFrame(dataSet3PAS.groupby([\"key\"]).sum()[\"revenue_transaction\"])\n",
    "revenue = pd.DataFrame(dataSet3PAS.groupby([\"key\"]).count()[\"panier\"])\n",
    "ds = transactions.join(revenue).reset_index()\n",
    "#c = np.append('key', 'revenue', 'conversions',axis =0)\n",
    "ds.columns = ['key', 'revenue', 'conversions']\n",
    "ds.head(5)"
   ]
  },
  {
   "cell_type": "code",
   "execution_count": 56,
   "metadata": {
    "collapsed": false
   },
   "outputs": [
    {
     "data": {
      "text/html": [
       "<div style=\"max-height:1000px;max-width:1500px;overflow:auto;\">\n",
       "<table border=\"1\" class=\"dataframe\">\n",
       "  <thead>\n",
       "    <tr style=\"text-align: right;\">\n",
       "      <th></th>\n",
       "      <th>key</th>\n",
       "      <th>nom_site</th>\n",
       "      <th>revenue_transaction</th>\n",
       "      <th>panier</th>\n",
       "    </tr>\n",
       "  </thead>\n",
       "  <tbody>\n",
       "    <tr>\n",
       "      <th>0</th>\n",
       "      <td>2016-03-10_1123_7485_1731</td>\n",
       "      <td>Part</td>\n",
       "      <td>37.5</td>\n",
       "      <td>PD</td>\n",
       "    </tr>\n",
       "    <tr>\n",
       "      <th>13</th>\n",
       "      <td>2016-03-10_1123_7485_1731</td>\n",
       "      <td>Part</td>\n",
       "      <td>25.5</td>\n",
       "      <td>DN</td>\n",
       "    </tr>\n",
       "  </tbody>\n",
       "</table>\n",
       "</div>"
      ],
      "text/plain": [
       "                          key nom_site  revenue_transaction panier\n",
       "0   2016-03-10_1123_7485_1731     Part                 37.5     PD\n",
       "13  2016-03-10_1123_7485_1731     Part                 25.5     DN"
      ]
     },
     "execution_count": 56,
     "metadata": {},
     "output_type": "execute_result"
    }
   ],
   "source": [
    "dataSet3PAS[dataSet3PAS.key == '2016-03-10_1123_7485_1731']"
   ]
  },
  {
   "cell_type": "code",
   "execution_count": 57,
   "metadata": {
    "collapsed": false
   },
   "outputs": [
    {
     "data": {
      "text/html": [
       "<div style=\"max-height:1000px;max-width:1500px;overflow:auto;\">\n",
       "<table border=\"1\" class=\"dataframe\">\n",
       "  <thead>\n",
       "    <tr style=\"text-align: right;\">\n",
       "      <th></th>\n",
       "      <th>key</th>\n",
       "      <th>revenue</th>\n",
       "      <th>conversions</th>\n",
       "    </tr>\n",
       "  </thead>\n",
       "  <tbody>\n",
       "    <tr>\n",
       "      <th>0</th>\n",
       "      <td>2016-03-10_1123_7485_1731</td>\n",
       "      <td>63</td>\n",
       "      <td>2</td>\n",
       "    </tr>\n",
       "  </tbody>\n",
       "</table>\n",
       "</div>"
      ],
      "text/plain": [
       "                         key  revenue  conversions\n",
       "0  2016-03-10_1123_7485_1731       63            2"
      ]
     },
     "execution_count": 57,
     "metadata": {},
     "output_type": "execute_result"
    }
   ],
   "source": [
    "ds[ds.key == '2016-03-10_1123_7485_1731']"
   ]
  },
  {
   "cell_type": "code",
   "execution_count": null,
   "metadata": {
    "collapsed": true
   },
   "outputs": [],
   "source": []
  },
  {
   "cell_type": "code",
   "execution_count": null,
   "metadata": {
    "collapsed": true
   },
   "outputs": [],
   "source": []
  },
  {
   "cell_type": "markdown",
   "metadata": {
    "collapsed": true
   },
   "source": [
    "# Load quantitative 3PAS report"
   ]
  },
  {
   "cell_type": "markdown",
   "metadata": {},
   "source": [
    "> load quantitative 3PAS report and merge two files"
   ]
  },
  {
   "cell_type": "code",
   "execution_count": 42,
   "metadata": {
    "collapsed": false
   },
   "outputs": [],
   "source": [
    "#final_ds = pd.merge(adServerTable,ds, on='key')\n",
    "#conversions are missing is it needed\n",
    "final_ds = pd.merge(adServerTable,df_final_cleaned, on='key')"
   ]
  },
  {
   "cell_type": "code",
   "execution_count": 43,
   "metadata": {
    "collapsed": false
   },
   "outputs": [
    {
     "data": {
      "text/html": [
       "<div style=\"max-height:1000px;max-width:1500px;overflow:auto;\">\n",
       "<table border=\"1\" class=\"dataframe\">\n",
       "  <thead>\n",
       "    <tr style=\"text-align: right;\">\n",
       "      <th></th>\n",
       "      <th>Date</th>\n",
       "      <th>Site/Offer ID</th>\n",
       "      <th>Site/Offer</th>\n",
       "      <th>Insertion ID</th>\n",
       "      <th>Insertion</th>\n",
       "      <th>Creative ID</th>\n",
       "      <th>Creative</th>\n",
       "      <th>Creative Sizes</th>\n",
       "      <th>Imp.</th>\n",
       "      <th>Clicks</th>\n",
       "      <th>...</th>\n",
       "      <th>PI conv. BNUM_Confirmation achat_Part</th>\n",
       "      <th>Revenues (PC) BNUM_Confirmation achat_Pro</th>\n",
       "      <th>Revenues (PC) BNUM_Confirmation achat_Part</th>\n",
       "      <th>Revenues (PI) BNUM_Confirmation achat_Pro</th>\n",
       "      <th>Revenues (PI) BNUM_Confirmation achat_Part</th>\n",
       "      <th>key</th>\n",
       "      <th>nom_site</th>\n",
       "      <th>revenue_product</th>\n",
       "      <th>relevant_conversions</th>\n",
       "      <th>total_revenue</th>\n",
       "    </tr>\n",
       "  </thead>\n",
       "  <tbody>\n",
       "    <tr>\n",
       "      <th>3</th>\n",
       "      <td>2016-03-10</td>\n",
       "      <td>1123</td>\n",
       "      <td>Quantcast</td>\n",
       "      <td>7485</td>\n",
       "      <td>Conquête pack déménagement Particuliers_300x250</td>\n",
       "      <td>1731</td>\n",
       "      <td>300x250_LaPoste_Demenagement</td>\n",
       "      <td>300x250</td>\n",
       "      <td>17539</td>\n",
       "      <td>2</td>\n",
       "      <td>...</td>\n",
       "      <td>5</td>\n",
       "      <td>-</td>\n",
       "      <td>37.5</td>\n",
       "      <td>17</td>\n",
       "      <td>67.05</td>\n",
       "      <td>2016-03-10_1123_7485_1731</td>\n",
       "      <td>Part</td>\n",
       "      <td>70</td>\n",
       "      <td>3</td>\n",
       "      <td>73.39</td>\n",
       "    </tr>\n",
       "  </tbody>\n",
       "</table>\n",
       "<p>1 rows × 23 columns</p>\n",
       "</div>"
      ],
      "text/plain": [
       "         Date  Site/Offer ID Site/Offer  Insertion ID  \\\n",
       "3  2016-03-10           1123  Quantcast          7485   \n",
       "\n",
       "                                         Insertion  Creative ID  \\\n",
       "3  Conquête pack déménagement Particuliers_300x250         1731   \n",
       "\n",
       "                       Creative Creative Sizes   Imp. Clicks      ...       \\\n",
       "3  300x250_LaPoste_Demenagement        300x250  17539      2      ...        \n",
       "\n",
       "  PI conv. BNUM_Confirmation achat_Part  \\\n",
       "3                                     5   \n",
       "\n",
       "  Revenues (PC) BNUM_Confirmation achat_Pro  \\\n",
       "3                                         -   \n",
       "\n",
       "  Revenues (PC) BNUM_Confirmation achat_Part  \\\n",
       "3                                       37.5   \n",
       "\n",
       "  Revenues (PI) BNUM_Confirmation achat_Pro  \\\n",
       "3                                        17   \n",
       "\n",
       "  Revenues (PI) BNUM_Confirmation achat_Part                        key  \\\n",
       "3                                      67.05  2016-03-10_1123_7485_1731   \n",
       "\n",
       "  nom_site revenue_product relevant_conversions total_revenue  \n",
       "3     Part              70                    3         73.39  \n",
       "\n",
       "[1 rows x 23 columns]"
      ]
     },
     "execution_count": 43,
     "metadata": {},
     "output_type": "execute_result"
    }
   ],
   "source": [
    "final_ds[final_ds.key == '2016-03-10_1123_7485_1731'].head(5)"
   ]
  },
  {
   "cell_type": "code",
   "execution_count": null,
   "metadata": {
    "collapsed": false
   },
   "outputs": [],
   "source": []
  },
  {
   "cell_type": "code",
   "execution_count": null,
   "metadata": {
    "collapsed": true
   },
   "outputs": [],
   "source": []
  },
  {
   "cell_type": "code",
   "execution_count": null,
   "metadata": {
    "collapsed": true
   },
   "outputs": [],
   "source": []
  },
  {
   "cell_type": "code",
   "execution_count": 44,
   "metadata": {
    "collapsed": false
   },
   "outputs": [],
   "source": [
    "#final_ds = final_ds[['Date', 'Site/Offer ID','Site/Offer', 'Insertion ID', 'Insertion', 'Creative ID', 'Creative', 'Creative Sizes','Imp.', 'Clicks','conversions', 'revenue', 'key' ]]\n",
    "#revenue_product\trelevant_conversions\n",
    "\n",
    "final_ds = final_ds[['Date', 'Site/Offer ID','Site/Offer', 'Insertion ID', 'Insertion', 'Creative ID', 'Creative', 'Creative Sizes','Imp.', 'Clicks','relevant_conversions', 'revenue_product','total_revenue', 'key' ]]"
   ]
  },
  {
   "cell_type": "code",
   "execution_count": 34,
   "metadata": {
    "collapsed": false
   },
   "outputs": [
    {
     "data": {
      "text/html": [
       "<div style=\"max-height:1000px;max-width:1500px;overflow:auto;\">\n",
       "<table border=\"1\" class=\"dataframe\">\n",
       "  <thead>\n",
       "    <tr style=\"text-align: right;\">\n",
       "      <th></th>\n",
       "      <th>Date</th>\n",
       "      <th>Site/Offer ID</th>\n",
       "      <th>Site/Offer</th>\n",
       "      <th>Insertion ID</th>\n",
       "      <th>Insertion</th>\n",
       "      <th>Creative ID</th>\n",
       "      <th>Creative</th>\n",
       "      <th>Creative Sizes</th>\n",
       "      <th>Imp.</th>\n",
       "      <th>Clicks</th>\n",
       "      <th>relevant_conversions</th>\n",
       "      <th>revenue_product</th>\n",
       "      <th>key</th>\n",
       "    </tr>\n",
       "  </thead>\n",
       "  <tbody>\n",
       "    <tr>\n",
       "      <th>0</th>\n",
       "      <td>2016-03-10</td>\n",
       "      <td>1123</td>\n",
       "      <td>Quantcast</td>\n",
       "      <td>7492</td>\n",
       "      <td>Retargeting pack déménagement Particuliers_728x90</td>\n",
       "      <td>1735</td>\n",
       "      <td>728x90_LaPoste_Demenagement</td>\n",
       "      <td>728x90</td>\n",
       "      <td>30698</td>\n",
       "      <td>7</td>\n",
       "      <td>2</td>\n",
       "      <td>25.5</td>\n",
       "      <td>2016-03-10_1123_7492_1735</td>\n",
       "    </tr>\n",
       "    <tr>\n",
       "      <th>1</th>\n",
       "      <td>2016-03-10</td>\n",
       "      <td>1123</td>\n",
       "      <td>Quantcast</td>\n",
       "      <td>7487</td>\n",
       "      <td>Conquête pack déménagement Particuliers_728x90</td>\n",
       "      <td>1735</td>\n",
       "      <td>728x90_LaPoste_Demenagement</td>\n",
       "      <td>728x90</td>\n",
       "      <td>22671</td>\n",
       "      <td>3</td>\n",
       "      <td>1</td>\n",
       "      <td>58.5</td>\n",
       "      <td>2016-03-10_1123_7487_1735</td>\n",
       "    </tr>\n",
       "    <tr>\n",
       "      <th>2</th>\n",
       "      <td>2016-03-10</td>\n",
       "      <td>1123</td>\n",
       "      <td>Quantcast</td>\n",
       "      <td>7490</td>\n",
       "      <td>Retargeting pack déménagement Particuliers_300...</td>\n",
       "      <td>1731</td>\n",
       "      <td>300x250_LaPoste_Demenagement</td>\n",
       "      <td>300x250</td>\n",
       "      <td>8422</td>\n",
       "      <td>3</td>\n",
       "      <td>1</td>\n",
       "      <td>25.5</td>\n",
       "      <td>2016-03-10_1123_7490_1731</td>\n",
       "    </tr>\n",
       "    <tr>\n",
       "      <th>3</th>\n",
       "      <td>2016-03-10</td>\n",
       "      <td>1123</td>\n",
       "      <td>Quantcast</td>\n",
       "      <td>7485</td>\n",
       "      <td>Conquête pack déménagement Particuliers_300x250</td>\n",
       "      <td>1731</td>\n",
       "      <td>300x250_LaPoste_Demenagement</td>\n",
       "      <td>300x250</td>\n",
       "      <td>17539</td>\n",
       "      <td>2</td>\n",
       "      <td>3</td>\n",
       "      <td>70.0</td>\n",
       "      <td>2016-03-10_1123_7485_1731</td>\n",
       "    </tr>\n",
       "  </tbody>\n",
       "</table>\n",
       "</div>"
      ],
      "text/plain": [
       "         Date  Site/Offer ID Site/Offer  Insertion ID  \\\n",
       "0  2016-03-10           1123  Quantcast          7492   \n",
       "1  2016-03-10           1123  Quantcast          7487   \n",
       "2  2016-03-10           1123  Quantcast          7490   \n",
       "3  2016-03-10           1123  Quantcast          7485   \n",
       "\n",
       "                                           Insertion  Creative ID  \\\n",
       "0  Retargeting pack déménagement Particuliers_728x90         1735   \n",
       "1     Conquête pack déménagement Particuliers_728x90         1735   \n",
       "2  Retargeting pack déménagement Particuliers_300...         1731   \n",
       "3    Conquête pack déménagement Particuliers_300x250         1731   \n",
       "\n",
       "                       Creative Creative Sizes   Imp. Clicks  \\\n",
       "0   728x90_LaPoste_Demenagement         728x90  30698      7   \n",
       "1   728x90_LaPoste_Demenagement         728x90  22671      3   \n",
       "2  300x250_LaPoste_Demenagement        300x250   8422      3   \n",
       "3  300x250_LaPoste_Demenagement        300x250  17539      2   \n",
       "\n",
       "   relevant_conversions  revenue_product                        key  \n",
       "0                     2             25.5  2016-03-10_1123_7492_1735  \n",
       "1                     1             58.5  2016-03-10_1123_7487_1735  \n",
       "2                     1             25.5  2016-03-10_1123_7490_1731  \n",
       "3                     3             70.0  2016-03-10_1123_7485_1731  "
      ]
     },
     "execution_count": 34,
     "metadata": {},
     "output_type": "execute_result"
    }
   ],
   "source": [
    "final_ds.head(4)"
   ]
  },
  {
   "cell_type": "code",
   "execution_count": 45,
   "metadata": {
    "collapsed": false
   },
   "outputs": [],
   "source": [
    "final_ds['cost'] = QC_cpm * final_ds['Imp.'] / 1000"
   ]
  },
  {
   "cell_type": "code",
   "execution_count": 46,
   "metadata": {
    "collapsed": true
   },
   "outputs": [],
   "source": [
    "def test(ds1):\n",
    "    a = ds1[0]\n",
    "    b = ds1[1]\n",
    "    return b/a\n"
   ]
  },
  {
   "cell_type": "code",
   "execution_count": 47,
   "metadata": {
    "collapsed": false
   },
   "outputs": [],
   "source": [
    "final_ds['roi'] = final_ds['revenue_product'] / final_ds['cost']"
   ]
  },
  {
   "cell_type": "code",
   "execution_count": 48,
   "metadata": {
    "collapsed": false
   },
   "outputs": [
    {
     "data": {
      "text/html": [
       "<div style=\"max-height:1000px;max-width:1500px;overflow:auto;\">\n",
       "<table border=\"1\" class=\"dataframe\">\n",
       "  <thead>\n",
       "    <tr style=\"text-align: right;\">\n",
       "      <th></th>\n",
       "      <th>Date</th>\n",
       "      <th>Site/Offer ID</th>\n",
       "      <th>Site/Offer</th>\n",
       "      <th>Insertion ID</th>\n",
       "      <th>Insertion</th>\n",
       "      <th>Creative ID</th>\n",
       "      <th>Creative</th>\n",
       "      <th>Creative Sizes</th>\n",
       "      <th>Imp.</th>\n",
       "      <th>Clicks</th>\n",
       "      <th>relevant_conversions</th>\n",
       "      <th>revenue_product</th>\n",
       "      <th>total_revenue</th>\n",
       "      <th>key</th>\n",
       "      <th>cost</th>\n",
       "      <th>roi</th>\n",
       "    </tr>\n",
       "  </thead>\n",
       "  <tbody>\n",
       "    <tr>\n",
       "      <th>0</th>\n",
       "      <td>2016-03-10</td>\n",
       "      <td>1123</td>\n",
       "      <td>Quantcast</td>\n",
       "      <td>7492</td>\n",
       "      <td>Retargeting pack déménagement Particuliers_728x90</td>\n",
       "      <td>1735</td>\n",
       "      <td>728x90_LaPoste_Demenagement</td>\n",
       "      <td>728x90</td>\n",
       "      <td>30698</td>\n",
       "      <td>7</td>\n",
       "      <td>2</td>\n",
       "      <td>25.5</td>\n",
       "      <td>73.71</td>\n",
       "      <td>2016-03-10_1123_7492_1735</td>\n",
       "      <td>61.396</td>\n",
       "      <td>0.415337</td>\n",
       "    </tr>\n",
       "    <tr>\n",
       "      <th>1</th>\n",
       "      <td>2016-03-10</td>\n",
       "      <td>1123</td>\n",
       "      <td>Quantcast</td>\n",
       "      <td>7487</td>\n",
       "      <td>Conquête pack déménagement Particuliers_728x90</td>\n",
       "      <td>1735</td>\n",
       "      <td>728x90_LaPoste_Demenagement</td>\n",
       "      <td>728x90</td>\n",
       "      <td>22671</td>\n",
       "      <td>3</td>\n",
       "      <td>1</td>\n",
       "      <td>58.5</td>\n",
       "      <td>58.50</td>\n",
       "      <td>2016-03-10_1123_7487_1735</td>\n",
       "      <td>45.342</td>\n",
       "      <td>1.290195</td>\n",
       "    </tr>\n",
       "    <tr>\n",
       "      <th>2</th>\n",
       "      <td>2016-03-10</td>\n",
       "      <td>1123</td>\n",
       "      <td>Quantcast</td>\n",
       "      <td>7490</td>\n",
       "      <td>Retargeting pack déménagement Particuliers_300...</td>\n",
       "      <td>1731</td>\n",
       "      <td>300x250_LaPoste_Demenagement</td>\n",
       "      <td>300x250</td>\n",
       "      <td>8422</td>\n",
       "      <td>3</td>\n",
       "      <td>1</td>\n",
       "      <td>25.5</td>\n",
       "      <td>25.50</td>\n",
       "      <td>2016-03-10_1123_7490_1731</td>\n",
       "      <td>16.844</td>\n",
       "      <td>1.513892</td>\n",
       "    </tr>\n",
       "    <tr>\n",
       "      <th>3</th>\n",
       "      <td>2016-03-10</td>\n",
       "      <td>1123</td>\n",
       "      <td>Quantcast</td>\n",
       "      <td>7485</td>\n",
       "      <td>Conquête pack déménagement Particuliers_300x250</td>\n",
       "      <td>1731</td>\n",
       "      <td>300x250_LaPoste_Demenagement</td>\n",
       "      <td>300x250</td>\n",
       "      <td>17539</td>\n",
       "      <td>2</td>\n",
       "      <td>3</td>\n",
       "      <td>70.0</td>\n",
       "      <td>73.39</td>\n",
       "      <td>2016-03-10_1123_7485_1731</td>\n",
       "      <td>35.078</td>\n",
       "      <td>1.995553</td>\n",
       "    </tr>\n",
       "  </tbody>\n",
       "</table>\n",
       "</div>"
      ],
      "text/plain": [
       "         Date  Site/Offer ID Site/Offer  Insertion ID  \\\n",
       "0  2016-03-10           1123  Quantcast          7492   \n",
       "1  2016-03-10           1123  Quantcast          7487   \n",
       "2  2016-03-10           1123  Quantcast          7490   \n",
       "3  2016-03-10           1123  Quantcast          7485   \n",
       "\n",
       "                                           Insertion  Creative ID  \\\n",
       "0  Retargeting pack déménagement Particuliers_728x90         1735   \n",
       "1     Conquête pack déménagement Particuliers_728x90         1735   \n",
       "2  Retargeting pack déménagement Particuliers_300...         1731   \n",
       "3    Conquête pack déménagement Particuliers_300x250         1731   \n",
       "\n",
       "                       Creative Creative Sizes   Imp. Clicks  \\\n",
       "0   728x90_LaPoste_Demenagement         728x90  30698      7   \n",
       "1   728x90_LaPoste_Demenagement         728x90  22671      3   \n",
       "2  300x250_LaPoste_Demenagement        300x250   8422      3   \n",
       "3  300x250_LaPoste_Demenagement        300x250  17539      2   \n",
       "\n",
       "   relevant_conversions  revenue_product  total_revenue  \\\n",
       "0                     2             25.5          73.71   \n",
       "1                     1             58.5          58.50   \n",
       "2                     1             25.5          25.50   \n",
       "3                     3             70.0          73.39   \n",
       "\n",
       "                         key    cost       roi  \n",
       "0  2016-03-10_1123_7492_1735  61.396  0.415337  \n",
       "1  2016-03-10_1123_7487_1735  45.342  1.290195  \n",
       "2  2016-03-10_1123_7490_1731  16.844  1.513892  \n",
       "3  2016-03-10_1123_7485_1731  35.078  1.995553  "
      ]
     },
     "execution_count": 48,
     "metadata": {},
     "output_type": "execute_result"
    }
   ],
   "source": [
    "final_ds.head(4)"
   ]
  },
  {
   "cell_type": "code",
   "execution_count": 49,
   "metadata": {
    "collapsed": false
   },
   "outputs": [
    {
     "name": "stdout",
     "output_type": "stream",
     "text": [
      "Done\n"
     ]
    }
   ],
   "source": [
    "final_ds.to_csv('3pas_report_final.csv', index=False,encoding='utf-8')\n",
    "print('Done')"
   ]
  },
  {
   "cell_type": "code",
   "execution_count": null,
   "metadata": {
    "collapsed": false
   },
   "outputs": [],
   "source": []
  },
  {
   "cell_type": "code",
   "execution_count": null,
   "metadata": {
    "collapsed": false
   },
   "outputs": [],
   "source": []
  },
  {
   "cell_type": "code",
   "execution_count": null,
   "metadata": {
    "collapsed": false
   },
   "outputs": [],
   "source": []
  },
  {
   "cell_type": "code",
   "execution_count": null,
   "metadata": {
    "collapsed": false
   },
   "outputs": [],
   "source": []
  },
  {
   "cell_type": "code",
   "execution_count": null,
   "metadata": {
    "collapsed": false
   },
   "outputs": [],
   "source": []
  },
  {
   "cell_type": "code",
   "execution_count": null,
   "metadata": {
    "collapsed": false
   },
   "outputs": [],
   "source": []
  },
  {
   "cell_type": "code",
   "execution_count": null,
   "metadata": {
    "collapsed": false
   },
   "outputs": [],
   "source": []
  },
  {
   "cell_type": "code",
   "execution_count": null,
   "metadata": {
    "collapsed": false
   },
   "outputs": [],
   "source": []
  },
  {
   "cell_type": "code",
   "execution_count": null,
   "metadata": {
    "collapsed": true
   },
   "outputs": [],
   "source": []
  }
 ],
 "metadata": {
  "kernelspec": {
   "display_name": "Python 2",
   "language": "python",
   "name": "python2"
  },
  "language_info": {
   "codemirror_mode": {
    "name": "ipython",
    "version": 2
   },
   "file_extension": ".py",
   "mimetype": "text/x-python",
   "name": "python",
   "nbconvert_exporter": "python",
   "pygments_lexer": "ipython2",
   "version": "2.7.9"
  }
 },
 "nbformat": 4,
 "nbformat_minor": 0
}
